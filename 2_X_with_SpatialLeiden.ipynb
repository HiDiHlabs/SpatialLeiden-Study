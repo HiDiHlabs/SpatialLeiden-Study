{
 "cells": [
  {
   "cell_type": "code",
   "execution_count": 1,
   "id": "9dd07f9a-b6a1-42fb-8e9a-5af03ac0a500",
   "metadata": {},
   "outputs": [],
   "source": [
    "from pathlib import Path\n",
    "\n",
    "import anndata as ad\n",
    "import pandas as pd\n",
    "import scanpy as sc\n",
    "import squidpy as sq\n",
    "from spatialleiden import search_resolution_latent, search_resolution_spatial\n",
    "\n",
    "from utils import get_anndata"
   ]
  },
  {
   "cell_type": "code",
   "execution_count": 2,
   "id": "70775428-f627-4b3b-a76f-a90855292bee",
   "metadata": {},
   "outputs": [],
   "source": [
    "data_dir = Path(\"./data/LIBD_DLPFC\")\n",
    "result_dir = Path(\"./results/SpatialLeiden_X\")\n",
    "\n",
    "seed = 42"
   ]
  },
  {
   "cell_type": "code",
   "execution_count": 3,
   "id": "9973d228-2815-4304-8fb9-63c3c138f868",
   "metadata": {},
   "outputs": [],
   "source": [
    "metadata = pd.read_table(\n",
    "    data_dir / \"samples.tsv\", usecols=[\"directory\", \"n_clusters\"]\n",
    ").set_index(\"directory\")"
   ]
  },
  {
   "cell_type": "code",
   "execution_count": 4,
   "id": "5e2d182e-90fc-406a-9b15-d1e83b55f575",
   "metadata": {},
   "outputs": [],
   "source": [
    "sample = metadata.loc[\"Br8100_151673\", :]\n",
    "\n",
    "sample_dir = data_dir / sample.name\n",
    "\n",
    "n_clusters = sample.n_clusters"
   ]
  },
  {
   "cell_type": "markdown",
   "id": "9501f4a1-6285-4f9b-b20f-f76ad14158ac",
   "metadata": {},
   "source": [
    "# Clustering"
   ]
  },
  {
   "cell_type": "code",
   "execution_count": 5,
   "id": "f53da25a-db7c-4323-8618-6f1a0fc69a84",
   "metadata": {},
   "outputs": [],
   "source": [
    "spatial_weights = [0.2, 0.4, 0.6, 0.8, 1.0]"
   ]
  },
  {
   "cell_type": "markdown",
   "id": "cfa57516-b322-4a11-bc70-34375f6cb8a9",
   "metadata": {},
   "source": [
    "## SpiceMix"
   ]
  },
  {
   "cell_type": "code",
   "execution_count": 6,
   "id": "501f55c3-c444-44b7-8860-aa86a39407c3",
   "metadata": {},
   "outputs": [],
   "source": [
    "spicemix_dir = Path(\"./results/SpiceMix\") / \"Br8100_151673\""
   ]
  },
  {
   "cell_type": "code",
   "execution_count": 7,
   "id": "4d43ddee-6d78-4c95-a86e-31d29c234d0c",
   "metadata": {},
   "outputs": [
    {
     "name": "stderr",
     "output_type": "stream",
     "text": [
      "/dh-projects/ag-ishaque/analysis/muellni/envs/spatialleiden/lib/python3.10/site-packages/tqdm/auto.py:21: TqdmWarning: IProgress not found. Please update jupyter and ipywidgets. See https://ipywidgets.readthedocs.io/en/stable/user_install.html\n",
      "  from .autonotebook import tqdm as notebook_tqdm\n",
      "/dh-projects/ag-ishaque/analysis/muellni/envs/spatialleiden/lib/python3.10/site-packages/spatialleiden/_resolution_search.py:78: FutureWarning: In the future, the default backend for leiden will be igraph instead of leidenalg.\n",
      "\n",
      " To achieve the future defaults please pass: flavor=\"igraph\" and n_iterations=2.  directed must also be False to work with igraph's implementation.\n",
      "  sc.tl.leiden(adata, resolution=resolution, **kwargs)\n"
     ]
    }
   ],
   "source": [
    "for f in spicemix_dir.glob(\"*.h5ad\"):\n",
    "    cols = []\n",
    "    adata = ad.read_h5ad(f)\n",
    "    sq.gr.spatial_neighbors(adata, coord_type=\"grid\", n_neighs=6)\n",
    "    sc.pp.neighbors(adata, use_rep=\"normalized_X\")\n",
    "\n",
    "    name = \"Leiden\"\n",
    "    res = search_resolution_latent(adata, n_clusters, random_state=seed)\n",
    "    adata.obs[name] = adata.obs[\"leiden\"].copy()\n",
    "    cols.append(name)\n",
    "\n",
    "    for w in spatial_weights:\n",
    "        _ = search_resolution_spatial(\n",
    "            adata,\n",
    "            n_clusters,\n",
    "            directed=(False, False),\n",
    "            layer_ratio=w,\n",
    "            resolution=(res, 1),\n",
    "            seed=seed,\n",
    "        )\n",
    "\n",
    "        name = f\"SpatialLeiden_w{w:.1f}\"\n",
    "        cols.append(name)\n",
    "        adata.obs[name] = adata.obs[\"spatialleiden\"].copy()\n",
    "    adata.obs[cols].to_csv(spicemix_dir / f\"{f.stem}_cluster.tsv\", sep=\"\\t\", index=True)"
   ]
  },
  {
   "cell_type": "markdown",
   "id": "0a0946c3-2472-40ba-9f10-2665f7825a81",
   "metadata": {},
   "source": [
    "## Banksy"
   ]
  },
  {
   "cell_type": "code",
   "execution_count": 8,
   "id": "34dadbd7-ab76-4e95-94c2-aff9f64389ce",
   "metadata": {},
   "outputs": [],
   "source": [
    "banksy_dir = Path(\"./results/Banksy\") / \"BR8100_151673\""
   ]
  },
  {
   "cell_type": "code",
   "execution_count": 9,
   "id": "5f97ad68-69e6-4e50-b6fa-5f100d6fdc27",
   "metadata": {},
   "outputs": [],
   "source": [
    "adata = get_anndata(sample_dir)\n",
    "sq.gr.spatial_neighbors(adata, coord_type=\"grid\", n_neighs=6)\n",
    "\n",
    "for f in banksy_dir.glob(\"*.tsv\"):\n",
    "    if \"cluster\" in f.stem:\n",
    "        continue\n",
    "    cols = []\n",
    "    adata.obsm[\"Banksy\"] = pd.read_table(f, index_col=0).to_numpy()\n",
    "    sc.pp.neighbors(adata, use_rep=\"Banksy\")\n",
    "\n",
    "    name = \"Leiden\"\n",
    "    res = search_resolution_latent(adata, n_clusters, random_state=seed)\n",
    "    adata.obs[name] = adata.obs[\"leiden\"].copy()\n",
    "    cols.append(name)\n",
    "\n",
    "    for w in spatial_weights:\n",
    "        _ = search_resolution_spatial(\n",
    "            adata,\n",
    "            n_clusters,\n",
    "            directed=(False, False),\n",
    "            layer_ratio=w,\n",
    "            resolution=(res, 1),\n",
    "            seed=seed,\n",
    "        )\n",
    "\n",
    "        name = f\"SpatialLeiden_w{w:.1f}\"\n",
    "        cols.append(name)\n",
    "        adata.obs[name] = adata.obs[\"spatialleiden\"].copy()\n",
    "    adata.obs[cols].to_csv(banksy_dir / f\"{f.stem}_cluster.tsv\", sep=\"\\t\", index=True)"
   ]
  }
 ],
 "metadata": {
  "kernelspec": {
   "display_name": "Python [conda env:muellni-spatialleiden]",
   "language": "python",
   "name": "conda-env-muellni-spatialleiden-py"
  },
  "language_info": {
   "codemirror_mode": {
    "name": "ipython",
    "version": 3
   },
   "file_extension": ".py",
   "mimetype": "text/x-python",
   "name": "python",
   "nbconvert_exporter": "python",
   "pygments_lexer": "ipython3",
   "version": "3.10.14"
  }
 },
 "nbformat": 4,
 "nbformat_minor": 5
}
