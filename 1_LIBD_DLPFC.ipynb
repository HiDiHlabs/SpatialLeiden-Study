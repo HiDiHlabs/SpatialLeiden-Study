{
 "cells": [
  {
   "cell_type": "code",
   "execution_count": null,
   "id": "81d25fb7-0b9d-4eed-935e-f12b3f9fe95c",
   "metadata": {
    "scrolled": true
   },
   "outputs": [],
   "source": [
    "suppressPackageStartupMessages(library(spatialLIBD))\n",
    "suppressPackageStartupMessages(library(tidyverse))"
   ]
  },
  {
   "cell_type": "code",
   "execution_count": null,
   "id": "43bec7d1-2580-44a0-9696-7b177c588a80",
   "metadata": {},
   "outputs": [],
   "source": [
    "data_dir <- \"./data\""
   ]
  },
  {
   "cell_type": "code",
   "execution_count": null,
   "id": "b204473e-c5ea-47f2-96cc-362e877a3233",
   "metadata": {},
   "outputs": [],
   "source": [
    "write_SpatialExperiment_to_folder <- function(\n",
    "    spe, path, obs_col, label_col = \"label\", assay_name = \"counts\") {\n",
    "    dir.create(path, showWarnings = FALSE, recursive = TRUE)\n",
    "\n",
    "    colData(spe)[label_col] %>%\n",
    "        as.data.frame() %>%\n",
    "        dplyr::filter(!is.na(!!as.symbol(label_col))) %>%\n",
    "        write.table(\n",
    "            file.path(path, \"labels.tsv\"),\n",
    "            sep = \"\\t\", col.names = NA, quote = FALSE\n",
    "        )\n",
    "\n",
    "    colData(spe)[obs_col] %>%\n",
    "        as.data.frame() %>%\n",
    "        write.table(\n",
    "            file.path(path, \"observations.tsv\"),\n",
    "            sep = \"\\t\", col.names = NA, quote = FALSE\n",
    "        )\n",
    "\n",
    "    rowData(spe) %>%\n",
    "        as.data.frame() %>%\n",
    "        write.table(\n",
    "            file.path(path, \"features.tsv\"),\n",
    "            sep = \"\\t\", col.names = NA, quote = FALSE\n",
    "        )\n",
    "\n",
    "    coords <- spatialCoords(spe)\n",
    "    mode(coords) <- \"integer\"\n",
    "    as.data.frame(coords) %>%\n",
    "        dplyr::rename(x = \"pxl_col_in_fullres\", y = \"pxl_row_in_fullres\") %>%\n",
    "        write.table(\n",
    "            file.path(path, \"coordinates.tsv\"),\n",
    "            sep = \"\\t\", col.names = NA, quote = FALSE\n",
    "        )\n",
    "\n",
    "    assay(spe, assay_name) %>%\n",
    "        t() %>%\n",
    "        Matrix::writeMM(file.path(path, \"counts.mtx\"))\n",
    "}"
   ]
  },
  {
   "cell_type": "code",
   "execution_count": null,
   "id": "249e7c0b-b404-4411-bd6f-794ed9f360fb",
   "metadata": {},
   "outputs": [],
   "source": [
    "spe <- fetch_data(\"spe\")"
   ]
  },
  {
   "cell_type": "code",
   "execution_count": null,
   "id": "5e3fc0b9-f8b8-414f-a12d-71eb48118629",
   "metadata": {},
   "outputs": [],
   "source": [
    "# subset metadata\n",
    "keep_cols <- c(\n",
    "    \"sample_id\",\n",
    "    \"subject\",\n",
    "    \"position\",\n",
    "    \"replicate\",\n",
    "    \"discard\",\n",
    "    \"spatialLIBD\",\n",
    "    \"array_row\",\n",
    "    \"array_col\"\n",
    ")\n",
    "\n",
    "colData(spe) <- colData(spe)[, keep_cols]\n",
    "colnames(colData(spe))[colnames(colData(spe)) == \"array_row\"] <- \"row\"\n",
    "colnames(colData(spe))[colnames(colData(spe)) == \"array_col\"] <- \"col\"\n",
    "colnames(colData(spe))[colnames(colData(spe)) == \"spatialLIBD\"] <- \"label\"\n",
    "\n",
    "keep_rows <- c(\"gene_version\", \"gene_name\", \"source\", \"gene_biotype\")\n",
    "rowData(spe) <- rowData(spe)[, keep_rows]"
   ]
  },
  {
   "cell_type": "code",
   "execution_count": null,
   "id": "3ff0f658-af0b-4e58-a1ef-8c699a677a48",
   "metadata": {},
   "outputs": [],
   "source": [
    "# create folder per sample\n",
    "patients <- unique(colData(spe)$subject)\n",
    "for (patient in patients) {\n",
    "    patient_spe <- spe[, spe$subject == patient]\n",
    "    samples <- unique(colData(patient_spe)$sample_id)\n",
    "    for (sample in samples) {\n",
    "        spe_sample <- patient_spe[, patient_spe$sample_id == sample]\n",
    "        colData(spe_sample) <- colData(spe_sample)[, c(\"label\", \"row\", \"col\")]\n",
    "        write_SpatialExperiment_to_folder(\n",
    "            spe_sample,\n",
    "            file.path(data_dir, paste(patient, sample, sep = \"_\")),\n",
    "            obs_col = c(\"row\", \"col\")\n",
    "        )\n",
    "    }\n",
    "}"
   ]
  },
  {
   "cell_type": "code",
   "execution_count": null,
   "id": "67886751-3c17-4494-8064-af91e4be677e",
   "metadata": {},
   "outputs": [],
   "source": [
    "# download H&E images\n",
    "sample2patient <- colData(spe)[, c(\"sample_id\", \"subject\")] %>%\n",
    "    as.data.frame() %>%\n",
    "    dplyr::distinct() %>%\n",
    "    tibble::deframe()\n",
    "\n",
    "img_links <- c(\n",
    "    \"https://spatial-dlpfc.s3.us-east-2.amazonaws.com/images/151507_full_image.tif\",\n",
    "    \"https://spatial-dlpfc.s3.us-east-2.amazonaws.com/images/151508_full_image.tif\",\n",
    "    \"https://spatial-dlpfc.s3.us-east-2.amazonaws.com/images/151509_full_image.tif\",\n",
    "    \"https://spatial-dlpfc.s3.us-east-2.amazonaws.com/images/151510_full_image.tif\",\n",
    "    \"https://spatial-dlpfc.s3.us-east-2.amazonaws.com/images/151669_full_image.tif\",\n",
    "    \"https://spatial-dlpfc.s3.us-east-2.amazonaws.com/images/151670_full_image.tif\",\n",
    "    \"https://spatial-dlpfc.s3.us-east-2.amazonaws.com/images/151671_full_image.tif\",\n",
    "    \"https://spatial-dlpfc.s3.us-east-2.amazonaws.com/images/151672_full_image.tif\",\n",
    "    \"https://spatial-dlpfc.s3.us-east-2.amazonaws.com/images/151673_full_image.tif\",\n",
    "    \"https://spatial-dlpfc.s3.us-east-2.amazonaws.com/images/151674_full_image.tif\",\n",
    "    \"https://spatial-dlpfc.s3.us-east-2.amazonaws.com/images/151675_full_image.tif\",\n",
    "    \"https://spatial-dlpfc.s3.us-east-2.amazonaws.com/images/151676_full_image.tif\"\n",
    ")\n",
    "\n",
    "img_links <- tibble::as_tibble(list(\"link\" = img_links)) %>%\n",
    "    dplyr::mutate(\n",
    "        sample = stringr::str_extract(link, \"([^/]+)_full_image.tif$\", group = 1),\n",
    "        patient = sample2patient[sample],\n",
    "        filename = \"H_E.tiff\"\n",
    "    )\n",
    "\n",
    "options(timeout = 60 * 60)\n",
    "purrr::pwalk(img_links, function(link, sample, patient, filename) {\n",
    "    download.file(\n",
    "        link,\n",
    "        file.path(data_dir, paste(patient, sample, sep = \"_\"), filename),\n",
    "        \"wget\",\n",
    "        quiet = TRUE\n",
    "    )\n",
    "})"
   ]
  },
  {
   "cell_type": "code",
   "execution_count": null,
   "id": "4cc6616f-d93a-4ebb-aeb1-4fec9c09b20a",
   "metadata": {},
   "outputs": [],
   "source": [
    "colData(spe) %>%\n",
    "    as.data.frame() %>%\n",
    "    dplyr::select(patient = subject, sample = sample_id, position, replicate, label) %>%\n",
    "    dplyr::filter(!is.na(label)) %>%\n",
    "    dplyr::distinct() %>%\n",
    "    dplyr::count(patient, sample, position, replicate) %>%\n",
    "    dplyr::rename(n_clusters = n) %>%\n",
    "    dplyr::mutate(directory = paste(patient, sample, sep = \"_\")) %>%\n",
    "    `row.names<-`(NULL) %>%\n",
    "    write.table(file.path(data_dir, \"samples.tsv\"), sep = \"\\t\", col.names = NA, quote = FALSE)"
   ]
  }
 ],
 "metadata": {
  "kernelspec": {
   "display_name": "R spatialLIBD",
   "language": "R",
   "name": "r_spatiallibd"
  },
  "language_info": {
   "codemirror_mode": "r",
   "file_extension": ".r",
   "mimetype": "text/x-r-source",
   "name": "R",
   "pygments_lexer": "r",
   "version": "4.3.1"
  }
 },
 "nbformat": 4,
 "nbformat_minor": 5
}
