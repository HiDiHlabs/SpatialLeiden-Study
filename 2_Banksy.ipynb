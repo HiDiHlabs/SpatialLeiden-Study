{
 "cells": [
  {
   "cell_type": "code",
   "execution_count": 1,
   "id": "24439810-e038-477c-8155-d8aa024583db",
   "metadata": {},
   "outputs": [],
   "source": [
    "seed <- 42\n",
    "\n",
    "n.genes <- 2000\n",
    "n.pcs <- 20\n",
    "\n",
    "use_agf <- TRUE\n",
    "\n",
    "set.seed(seed)"
   ]
  },
  {
   "cell_type": "code",
   "execution_count": 2,
   "id": "1096bdf0-a08a-4dda-a141-61fac1f35ec7",
   "metadata": {},
   "outputs": [],
   "source": [
    "suppressPackageStartupMessages({\n",
    "    library(SpatialExperiment)\n",
    "})"
   ]
  },
  {
   "cell_type": "code",
   "execution_count": 3,
   "id": "60836af4-1d21-4f77-addf-6e2273defe11",
   "metadata": {},
   "outputs": [],
   "source": [
    "sample.dir <- \"data/LIBD_DLPFC/Br8100_151673\"\n",
    "\n",
    "out.dir <- \"results/Banksy/Br8100_151673\"\n",
    "\n",
    "dir.create(out.dir, showWarnings = FALSE, recursive = TRUE)"
   ]
  },
  {
   "cell_type": "code",
   "execution_count": 4,
   "id": "757ce3bb-c43e-4150-ba3d-25c7ad2c635a",
   "metadata": {},
   "outputs": [],
   "source": [
    "get_SpatialExperiment <- function(\n",
    "    feature_file,\n",
    "    observation_file,\n",
    "    coord_file,\n",
    "    matrix_file,\n",
    "    assay_name = \"counts\") {\n",
    "    rowData <- read.delim(feature_file, stringsAsFactors = FALSE, row.names = 1, numerals = \"no.loss\")\n",
    "    colData <- read.delim(observation_file, stringsAsFactors = FALSE, row.names = 1, numerals = \"no.loss\")\n",
    "\n",
    "    coordinates <- read.delim(coord_file, sep = \"\\t\", row.names = 1, numerals = \"no.loss\")\n",
    "    coordinates <- as.matrix(coordinates[rownames(colData), ])\n",
    "    mode(coordinates) <- \"numeric\"\n",
    "\n",
    "    spe <- SpatialExperiment::SpatialExperiment(\n",
    "        rowData = rowData, colData = colData, spatialCoords = coordinates\n",
    "    )\n",
    "\n",
    "    assay(spe, assay_name, withDimnames = FALSE) <- as(Matrix::t(Matrix::readMM(matrix_file)), \"CsparseMatrix\")\n",
    "\n",
    "    return(spe)\n",
    "}"
   ]
  },
  {
   "cell_type": "code",
   "execution_count": 5,
   "id": "8009e693-2caa-4edb-811a-19339afa4068",
   "metadata": {},
   "outputs": [],
   "source": [
    "spe <- get_SpatialExperiment(\n",
    "    feature_file = file.path(sample.dir, \"features.tsv\"),\n",
    "    observation_file = file.path(sample.dir, \"observations.tsv\"),\n",
    "    coord_file = file.path(sample.dir, \"coordinates.tsv\"),\n",
    "    matrix_file = file.path(sample.dir, \"counts.mtx\")\n",
    ")"
   ]
  },
  {
   "cell_type": "code",
   "execution_count": 7,
   "id": "68be82d1-b70b-45b1-99b0-336300f08944",
   "metadata": {},
   "outputs": [],
   "source": [
    "counts <- assay(spe, \"counts\")\n",
    "\n",
    "seu <- Seurat::CreateSeuratObject(counts = counts)\n",
    "seu <- Seurat::NormalizeData(seu, normalization.method = \"RC\", scale.factor = median(colSums(counts)), verbose = FALSE)\n",
    "seu <- Seurat::FindVariableFeatures(seu, nfeatures = n.genes, verbose = FALSE)\n",
    "\n",
    "spe <- spe[Seurat::VariableFeatures(seu), ]"
   ]
  },
  {
   "cell_type": "code",
   "execution_count": 8,
   "id": "deb74a40-e020-4d7c-8a7d-ed827c6e3318",
   "metadata": {},
   "outputs": [],
   "source": [
    "spe <- scuttle::computeLibraryFactors(spe)\n",
    "assay(spe, \"normcounts\") <- scuttle::normalizeCounts(spe, log = FALSE)"
   ]
  },
  {
   "cell_type": "code",
   "execution_count": 9,
   "id": "bdb22f69-9613-4f25-87c4-cb79becf06df",
   "metadata": {},
   "outputs": [],
   "source": [
    "spe <- Banksy::computeBanksy(\n",
    "    spe,\n",
    "    assay_name = \"normcounts\",\n",
    "    k_geom = 18,\n",
    "    compute_agf = use_agf,\n",
    "    coord_names = c(\"row\", \"col\"),\n",
    "    verbose = FALSE,\n",
    "    seed = seed,\n",
    ")"
   ]
  },
  {
   "cell_type": "code",
   "execution_count": 10,
   "id": "f62b9828-aaf5-4e95-ac1d-67ff88a6c63b",
   "metadata": {},
   "outputs": [
    {
     "name": "stderr",
     "output_type": "stream",
     "text": [
      "Using seed=42\n",
      "\n",
      "Using seed=42\n",
      "\n",
      "Using seed=42\n",
      "\n",
      "Using seed=42\n",
      "\n"
     ]
    }
   ],
   "source": [
    "lambdas <- seq(0, 0.3, 0.1)\n",
    "\n",
    "for (i in seq_along(lambdas)) {\n",
    "    lambda <- lambdas[i]\n",
    "\n",
    "    spe <- Banksy::runBanksyPCA(spe, lambda = lambda, npcs = n.pcs, use_agf = use_agf, seed = seed)\n",
    "\n",
    "    file <- file.path(out.dir, paste0(\"banksy_l\", as.character(lambda), \".tsv\"))\n",
    "    write.table(reducedDims(spe)[[i]], file = file, sep = \"\\t\", col.names = NA, quote = FALSE)\n",
    "}"
   ]
  }
 ],
 "metadata": {
  "kernelspec": {
   "display_name": "R [conda env:muellni-banksy]",
   "language": "R",
   "name": "conda-env-muellni-banksy-r"
  },
  "language_info": {
   "codemirror_mode": "r",
   "file_extension": ".r",
   "mimetype": "text/x-r-source",
   "name": "R",
   "pygments_lexer": "r",
   "version": "4.4.1"
  }
 },
 "nbformat": 4,
 "nbformat_minor": 5
}
