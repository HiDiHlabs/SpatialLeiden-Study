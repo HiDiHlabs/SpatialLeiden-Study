{
 "cells": [
  {
   "cell_type": "code",
   "execution_count": 1,
   "id": "f39d77c2-da9c-42be-9bb2-d1e78b37628d",
   "metadata": {},
   "outputs": [],
   "source": [
    "import os\n",
    "import re\n",
    "from datetime import datetime\n",
    "from io import StringIO\n",
    "from pathlib import Path\n",
    "\n",
    "import pandas as pd"
   ]
  },
  {
   "cell_type": "code",
   "execution_count": 2,
   "id": "1a574e9f-1f69-40ad-bdf3-0101ed54d380",
   "metadata": {},
   "outputs": [],
   "source": [
    "metadata_file = \"downloads.tsv\"\n",
    "\n",
    "data_dir = Path(\"./data/sdmbench\")\n",
    "result_dir = Path(\"./results/spatial_embedding\")\n",
    "\n",
    "seed = 42"
   ]
  },
  {
   "cell_type": "code",
   "execution_count": 3,
   "id": "a99e1b41-1522-4c87-a040-9944e6a370c8",
   "metadata": {},
   "outputs": [],
   "source": [
    "result_dir.mkdir(exist_ok=True, parents=True)"
   ]
  },
  {
   "cell_type": "code",
   "execution_count": 4,
   "id": "d1bdca26-435f-41c1-b1e1-79096018fe02",
   "metadata": {},
   "outputs": [],
   "source": [
    "metadata = pd.read_table(metadata_file, index_col=0)\n",
    "\n",
    "metadata = metadata.assign(path=lambda df: data_dir / df[\"url\"].str.split(\"/\").str[-1])"
   ]
  },
  {
   "cell_type": "markdown",
   "id": "8ff57600-8f9a-4ec5-a90a-a5a9eb811b6e",
   "metadata": {},
   "source": [
    "# Settings"
   ]
  },
  {
   "cell_type": "code",
   "execution_count": 5,
   "id": "0f0ecb14-5c3f-4243-8e27-2d9f89c46a24",
   "metadata": {},
   "outputs": [],
   "source": [
    "n_pcs = 30\n",
    "n_genes = 3_000"
   ]
  },
  {
   "cell_type": "code",
   "execution_count": 6,
   "id": "3bd0c0ef-5e25-4158-ac64-6d20c97202fa",
   "metadata": {
    "scrolled": true
   },
   "outputs": [],
   "source": [
    "conda_env = \"spatialleiden\"\n",
    "conda_path = \"~/miniconda3/bin/activate\"\n",
    "\n",
    "log_dir = result_dir / \"logs\"\n",
    "log_dir.mkdir(parents=True, exist_ok=True)\n",
    "\n",
    "conda_cmd = f\"source {conda_path} {conda_env}\"\n",
    "\n",
    "path = Path(os.getcwd())"
   ]
  },
  {
   "cell_type": "markdown",
   "id": "e8585e6f-0694-4473-8089-bdab45fc86e6",
   "metadata": {},
   "source": [
    "# MERFISH"
   ]
  },
  {
   "cell_type": "code",
   "execution_count": 10,
   "id": "590189c9-a432-4aaf-ae8a-84b6754aff27",
   "metadata": {
    "scrolled": true
   },
   "outputs": [],
   "source": [
    "sample = metadata.loc[\"MERFISH_0.14\"]\n",
    "\n",
    "sample_dir = result_dir / sample.name\n",
    "sample_dir.mkdir(exist_ok=True, parents=True)\n",
    "\n",
    "for neighbors in [\"delaunay\", 5, 10, 15, 20, 50]:\n",
    "    for w in [0.5, 1, 1.5, 2, 4]:\n",
    "        name = f\"neighbors_{neighbors}_w{w:.1f}\"\n",
    "        out = sample_dir / f\"{name}.tsv\"\n",
    "        cmd = (\n",
    "            f\"{path/'benchmark.py'} \"\n",
    "            f\"-i {sample.path} \"\n",
    "            f\"-o {out} \"\n",
    "            f\"--spatial_weight {w} \"\n",
    "            f\"--n_pcs {n_pcs} \"\n",
    "            f\"--neighbors {neighbors} \"\n",
    "            f\"--seed {seed} \"\n",
    "            \"--log \"\n",
    "        )\n",
    "\n",
    "        _ = os.popen(\n",
    "            f\"sbatch -J {name} --mem=5G -n 8 -N 1 \"\n",
    "            f\"-o {log_dir/name}.txt \"\n",
    "            f'--wrap=\"{conda_cmd} && {cmd}\" '\n",
    "        ).read()"
   ]
  },
  {
   "cell_type": "markdown",
   "id": "e17b4d4f-04ea-4fb6-abe5-cc48a55fb9e2",
   "metadata": {},
   "source": [
    "# Stereo-seq"
   ]
  },
  {
   "cell_type": "code",
   "execution_count": 11,
   "id": "b049e0a0-783c-4b33-968f-4ca5221cae2e",
   "metadata": {
    "scrolled": true
   },
   "outputs": [],
   "source": [
    "sample = metadata.loc[\"E10.5_E1S2.MOSTA\"]\n",
    "\n",
    "sample_dir = result_dir / sample.name\n",
    "sample_dir.mkdir(exist_ok=True, parents=True)\n",
    "\n",
    "for n_ring in [1, 2]:\n",
    "    for n_neigh in [4, 8]:\n",
    "        for w in [0.25, 0.5, 1, 1.5, 2]:\n",
    "            name = f\"neighbors_{n_ring}x{n_neigh}_w{w:.1f}\"\n",
    "            out = sample_dir / f\"{name}.tsv\"\n",
    "            cmd = (\n",
    "                f\"{path/'benchmark.py'} \"\n",
    "                f\"-i {sample.path} \"\n",
    "                f\"-o {out} \"\n",
    "                f\"--spatial_weight {w} \"\n",
    "                f\"--n_pcs {n_pcs} \"\n",
    "                f\"--n_genes {n_genes} \"\n",
    "                f\"--seed {seed} \"\n",
    "                f\"--n_rings {n_ring} \"\n",
    "                f\"--neighbors {n_neigh} \"\n",
    "                \"--stereoseq \"\n",
    "            )\n",
    "\n",
    "            _ = os.popen(\n",
    "                f\"sbatch -J {name} --mem=5G -n 8 -N 1 \"\n",
    "                f\"-o {log_dir/name}.txt \"\n",
    "                f'--wrap=\"{conda_cmd} && {cmd}\" '\n",
    "            ).read()"
   ]
  },
  {
   "cell_type": "code",
   "execution_count": null,
   "id": "02f5b8c8-76c3-47a5-ada7-2399166f0a26",
   "metadata": {},
   "outputs": [],
   "source": []
  }
 ],
 "metadata": {
  "kernelspec": {
   "display_name": "Python [conda env:muellni-spatialleiden]",
   "language": "python",
   "name": "conda-env-muellni-spatialleiden-py"
  },
  "language_info": {
   "codemirror_mode": {
    "name": "ipython",
    "version": 3
   },
   "file_extension": ".py",
   "mimetype": "text/x-python",
   "name": "python",
   "nbconvert_exporter": "python",
   "pygments_lexer": "ipython3",
   "version": "3.10.14"
  }
 },
 "nbformat": 4,
 "nbformat_minor": 5
}
