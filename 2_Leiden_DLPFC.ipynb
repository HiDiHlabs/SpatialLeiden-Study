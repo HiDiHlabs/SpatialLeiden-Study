{
 "cells": [
  {
   "cell_type": "code",
   "execution_count": 1,
   "id": "9453d41c-c85a-4919-8b7b-eb59860619d5",
   "metadata": {},
   "outputs": [],
   "source": [
    "from pathlib import Path\n",
    "\n",
    "import pandas as pd\n",
    "import scanpy as sc\n",
    "import squidpy as sq\n",
    "from multispaeti import MultispatiPCA\n",
    "from spatialleiden import (\n",
    "    search_resolution,\n",
    "    search_resolution_latent,\n",
    "    search_resolution_spatial,\n",
    ")\n",
    "\n",
    "from utils import get_anndata, preprocess_anndata"
   ]
  },
  {
   "cell_type": "code",
   "execution_count": 2,
   "id": "3a44293d-7e68-431d-8114-0f1274cc57bb",
   "metadata": {},
   "outputs": [],
   "source": [
    "data_dir = Path(\"./data/LIBD_DLPFC\")\n",
    "result_dir = Path(\"./results/LIBD_DLPFC\")\n",
    "\n",
    "seed = 42"
   ]
  },
  {
   "cell_type": "code",
   "execution_count": 3,
   "id": "6c4d5f5a-0931-425f-82e3-dc6098c7d19b",
   "metadata": {
    "scrolled": true
   },
   "outputs": [],
   "source": [
    "metadata = pd.read_table(\n",
    "    data_dir / \"samples.tsv\", usecols=[\"directory\", \"n_clusters\"]\n",
    ").set_index(\"directory\")"
   ]
  },
  {
   "cell_type": "markdown",
   "id": "e02284a2-0ab2-4811-a0e6-51f377bad623",
   "metadata": {},
   "source": [
    "# Results"
   ]
  },
  {
   "cell_type": "markdown",
   "id": "90590e1f-9209-4b7b-ae71-b4ab2d4dc052",
   "metadata": {},
   "source": [
    "## Impact of layer weight ratio"
   ]
  },
  {
   "cell_type": "code",
   "execution_count": 4,
   "id": "68e8bb3d-c2e3-43e7-ba87-9f580ac86ba5",
   "metadata": {
    "scrolled": true
   },
   "outputs": [],
   "source": [
    "sample = metadata.loc[\"Br8100_151673\", :]"
   ]
  },
  {
   "cell_type": "code",
   "execution_count": 5,
   "id": "bb549273-1793-4bb1-9d60-d7f977861183",
   "metadata": {
    "scrolled": true
   },
   "outputs": [],
   "source": [
    "out_dir = result_dir / \"weightratio_impact\" / sample.name\n",
    "\n",
    "n_genes = 3_000\n",
    "n_pcs = 30"
   ]
  },
  {
   "cell_type": "code",
   "execution_count": 6,
   "id": "d0c5538a-1228-4130-98a9-b2f3c0a368a4",
   "metadata": {
    "scrolled": true
   },
   "outputs": [
    {
     "name": "stderr",
     "output_type": "stream",
     "text": [
      "/dh-projects/ag-ishaque/analysis/muellni/envs/spatialleiden/lib/python3.10/site-packages/tqdm/auto.py:21: TqdmWarning: IProgress not found. Please update jupyter and ipywidgets. See https://ipywidgets.readthedocs.io/en/stable/user_install.html\n",
      "  from .autonotebook import tqdm as notebook_tqdm\n",
      "/dh-projects/ag-ishaque/analysis/muellni/envs/spatialleiden/lib/python3.10/site-packages/spatialleiden/_resolution_search.py:78: FutureWarning: In the future, the default backend for leiden will be igraph instead of leidenalg.\n",
      "\n",
      " To achieve the future defaults please pass: flavor=\"igraph\" and n_iterations=2.  directed must also be False to work with igraph's implementation.\n",
      "  sc.tl.leiden(adata, resolution=resolution, **kwargs)\n"
     ]
    }
   ],
   "source": [
    "adata = get_anndata(data_dir / sample.name)\n",
    "preprocess_anndata(adata, genes=n_genes, n_pcs=n_pcs, seed=seed)\n",
    "\n",
    "sc.tl.pca(adata, n_comps=n_pcs, random_state=seed)\n",
    "sc.pp.neighbors(adata, random_state=seed)\n",
    "\n",
    "res = search_resolution_latent(adata, sample.n_clusters, start=0.6, random_state=seed)\n",
    "leiden_df = adata.obs[[\"leiden\"]].copy()\n",
    "leiden_df.columns = [\"label\"]\n",
    "\n",
    "out_dir.mkdir(parents=True, exist_ok=True)\n",
    "leiden_df.to_csv(out_dir / \"leiden.tsv\", sep=\"\\t\", index_label=\"\")\n",
    "\n",
    "sq.gr.spatial_neighbors(adata, coord_type=\"grid\", n_neighs=6)\n",
    "\n",
    "for weight_ratio in [0, 0.2, 0.4, 0.6, 0.8, 1, 5, 10]:\n",
    "    res_multi = search_resolution_spatial(\n",
    "        adata,\n",
    "        sample.n_clusters,\n",
    "        resolution=(res, 1),\n",
    "        directed=(False, False),\n",
    "        layer_ratio=weight_ratio,\n",
    "        seed=seed,\n",
    "    )\n",
    "\n",
    "    multiplex_df = adata.obs[[\"spatialleiden\"]].copy()\n",
    "    multiplex_df.columns = [\"label\"]\n",
    "    multiplex_df.to_csv(\n",
    "        out_dir / f\"spatial_leiden_w{weight_ratio:.1f}.tsv\", sep=\"\\t\", index_label=\"\"\n",
    "    )"
   ]
  },
  {
   "cell_type": "markdown",
   "id": "1bfa180e-582c-455a-9c81-fd779f6ae012",
   "metadata": {},
   "source": [
    "## Cluster all samples"
   ]
  },
  {
   "cell_type": "code",
   "execution_count": 7,
   "id": "a963b705-fda5-4b85-8e5f-d649321aa0a1",
   "metadata": {
    "scrolled": true
   },
   "outputs": [],
   "source": [
    "n_pcs = 30\n",
    "n_genes = 3_000\n",
    "weight_spatial = 0.7"
   ]
  },
  {
   "cell_type": "markdown",
   "id": "03e89dca-306d-4ad2-a770-db17999c6542",
   "metadata": {},
   "source": [
    "### HVGs"
   ]
  },
  {
   "cell_type": "code",
   "execution_count": 8,
   "id": "418bf1f7-69da-4a25-9b44-06fbe9b6231d",
   "metadata": {
    "scrolled": true
   },
   "outputs": [
    {
     "name": "stdout",
     "output_type": "stream",
     "text": [
      "Processing Br5292_151507\n",
      "Processing Br5292_151508\n",
      "Processing Br5292_151509\n",
      "Processing Br5292_151510\n",
      "Processing Br5595_151669\n",
      "Processing Br5595_151670\n",
      "Processing Br5595_151671\n",
      "Processing Br5595_151672\n",
      "Processing Br8100_151673\n",
      "Processing Br8100_151674\n",
      "Processing Br8100_151675\n",
      "Processing Br8100_151676\n"
     ]
    }
   ],
   "source": [
    "for name, sample in metadata.iterrows():\n",
    "    print(\"Processing \" + name)\n",
    "\n",
    "    sample_dir = data_dir / name\n",
    "    out_dir = result_dir / name\n",
    "\n",
    "    adata = get_anndata(sample_dir)\n",
    "    preprocess_anndata(adata, genes=n_genes, n_pcs=n_pcs, seed=seed)\n",
    "\n",
    "    sc.tl.pca(adata, n_comps=n_pcs, random_state=seed)\n",
    "    sc.pp.neighbors(adata, random_state=seed)\n",
    "\n",
    "    sq.gr.spatial_neighbors(adata, coord_type=\"grid\", n_neighs=6)\n",
    "    _ = search_resolution(\n",
    "        adata,\n",
    "        sample.n_clusters,\n",
    "        latent_kwargs={\"random_state\": seed},\n",
    "        spatial_kwargs={\n",
    "            \"directed\": (False, False),\n",
    "            \"layer_ratio\": weight_spatial,\n",
    "            \"seed\": seed,\n",
    "        },\n",
    "    )\n",
    "\n",
    "    label_leiden = adata.obs[[\"leiden\"]].copy()\n",
    "    label_leiden.columns = [\"label\"]\n",
    "\n",
    "    label_leiden_multi = adata.obs[[\"spatialleiden\"]].copy()\n",
    "    label_leiden_multi.columns = [\"label\"]\n",
    "\n",
    "    ## Write output\n",
    "    out_dir.mkdir(parents=True, exist_ok=True)\n",
    "    label_leiden.to_csv(out_dir / \"leiden.tsv\", sep=\"\\t\", index_label=\"\")\n",
    "    label_leiden_multi.to_csv(out_dir / \"spatial_leiden.tsv\", sep=\"\\t\", index_label=\"\")"
   ]
  },
  {
   "cell_type": "markdown",
   "id": "ef43de3c-0f5a-4dff-be4f-9621f6310c73",
   "metadata": {},
   "source": [
    "### SVGs"
   ]
  },
  {
   "cell_type": "code",
   "execution_count": 9,
   "id": "3986b147-7d6b-49e4-81a6-e668404b4f6a",
   "metadata": {
    "scrolled": true
   },
   "outputs": [
    {
     "name": "stdout",
     "output_type": "stream",
     "text": [
      "Processing Br5292_151507\n",
      "Processing Br5292_151508\n",
      "Processing Br5292_151509\n",
      "Processing Br5292_151510\n",
      "Processing Br5595_151669\n",
      "Processing Br5595_151670\n",
      "Processing Br5595_151671\n",
      "Processing Br5595_151672\n",
      "Processing Br8100_151673\n",
      "Processing Br8100_151674\n",
      "Processing Br8100_151675\n",
      "Processing Br8100_151676\n"
     ]
    }
   ],
   "source": [
    "for name, sample in metadata.iterrows():\n",
    "    print(\"Processing \" + name)\n",
    "\n",
    "    sample_dir = data_dir / name\n",
    "    out_dir = result_dir / name\n",
    "\n",
    "    adata = get_anndata(sample_dir)\n",
    "    preprocess_anndata(adata, genes=n_genes, n_pcs=n_pcs, seed=seed)\n",
    "    sq.gr.spatial_neighbors(adata, coord_type=\"grid\", n_neighs=6)\n",
    "    sq.gr.spatial_autocorr(adata, genes=adata.var_names, mode=\"moran\", seed=seed)\n",
    "    genes = adata.uns[\"moranI\"].nlargest(n_genes, columns=\"I\", keep=\"all\").index\n",
    "    adata.obsm[\"X_svg_pca\"] = sc.tl.pca(\n",
    "        adata[:, genes].X, n_comps=n_pcs, random_state=seed\n",
    "    )\n",
    "    sc.pp.neighbors(adata, use_rep=\"X_svg_pca\", random_state=seed)\n",
    "\n",
    "    # Multiplex\n",
    "    sq.gr.spatial_neighbors(adata, coord_type=\"grid\", n_neighs=6)\n",
    "    _ = search_resolution(\n",
    "        adata,\n",
    "        sample.n_clusters,\n",
    "        latent_kwargs={\"random_state\": seed},\n",
    "        spatial_kwargs={\n",
    "            \"directed\": (False, False),\n",
    "            \"layer_ratio\": weight_spatial,\n",
    "            \"seed\": seed,\n",
    "        },\n",
    "    )\n",
    "\n",
    "    label_leiden = adata.obs[[\"leiden\"]].copy()\n",
    "    label_leiden.columns = [\"label\"]\n",
    "\n",
    "    label_leiden_multi = adata.obs[[\"spatialleiden\"]].copy()\n",
    "    label_leiden_multi.columns = [\"label\"]\n",
    "\n",
    "    # Multiplex and MULTISPATI-PCA\n",
    "    adata.obsm[\"X_mspca\"] = MultispatiPCA(\n",
    "        n_pcs, connectivity=adata.obsp[\"connectivities\"]\n",
    "    ).fit_transform(adata[:, genes].X.toarray())\n",
    "    sc.pp.neighbors(adata, use_rep=\"X_mspca\", random_state=seed)\n",
    "\n",
    "    _ = search_resolution(\n",
    "        adata,\n",
    "        sample.n_clusters,\n",
    "        latent_kwargs={\"random_state\": seed},\n",
    "        spatial_kwargs={\n",
    "            \"directed\": (False, False),\n",
    "            \"layer_ratio\": weight_spatial,\n",
    "            \"seed\": seed,\n",
    "        },\n",
    "    )\n",
    "\n",
    "    label_leiden_msPCA = adata.obs[[\"leiden\"]].copy()\n",
    "    label_leiden_msPCA.columns = [\"label\"]\n",
    "\n",
    "    label_leiden_multi_msPCA = adata.obs[[\"spatialleiden\"]].copy()\n",
    "    label_leiden_multi_msPCA.columns = [\"label\"]\n",
    "\n",
    "    ## Write output\n",
    "    out_dir.mkdir(parents=True, exist_ok=True)\n",
    "    label_leiden.to_csv(out_dir / \"leiden_svg.tsv\", sep=\"\\t\", index_label=\"\")\n",
    "    label_leiden_multi.to_csv(\n",
    "        out_dir / \"spatial_leiden_svg.tsv\", sep=\"\\t\", index_label=\"\"\n",
    "    )\n",
    "    label_leiden_msPCA.to_csv(\n",
    "        out_dir / \"leiden_svg_multispati.tsv\", sep=\"\\t\", index_label=\"\"\n",
    "    )\n",
    "    label_leiden_multi_msPCA.to_csv(\n",
    "        out_dir / \"spatial_leiden_svg_multispati.tsv\", sep=\"\\t\", index_label=\"\"\n",
    "    )"
   ]
  }
 ],
 "metadata": {
  "kernelspec": {
   "display_name": "Python [conda env:muellni-spatialleiden]",
   "language": "python",
   "name": "conda-env-muellni-spatialleiden-py"
  },
  "language_info": {
   "codemirror_mode": {
    "name": "ipython",
    "version": 3
   },
   "file_extension": ".py",
   "mimetype": "text/x-python",
   "name": "python",
   "nbconvert_exporter": "python",
   "pygments_lexer": "ipython3",
   "version": "3.10.14"
  }
 },
 "nbformat": 4,
 "nbformat_minor": 5
}
