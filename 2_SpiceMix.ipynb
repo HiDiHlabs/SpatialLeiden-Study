{
 "cells": [
  {
   "cell_type": "code",
   "execution_count": 1,
   "id": "b9b5b4ac-24e0-4751-b2d8-2374af844d4f",
   "metadata": {},
   "outputs": [],
   "source": [
    "import os\n",
    "from pathlib import Path\n",
    "\n",
    "import pandas as pd\n",
    "\n",
    "from utils import get_anndata"
   ]
  },
  {
   "cell_type": "code",
   "execution_count": 2,
   "id": "a352ab0f-a721-4955-8b0d-93d0f56443fc",
   "metadata": {},
   "outputs": [],
   "source": [
    "data_dir = Path(\"./data/LIBD_DLPFC\")\n",
    "result_dir = Path(\"./results/SpiceMix\")\n",
    "\n",
    "seed = 42"
   ]
  },
  {
   "cell_type": "code",
   "execution_count": 3,
   "id": "3077dc12-2ba4-4c6e-8710-0c7c8d901ee8",
   "metadata": {},
   "outputs": [],
   "source": [
    "result_dir.mkdir(parents=True, exist_ok=True)"
   ]
  },
  {
   "cell_type": "code",
   "execution_count": 4,
   "id": "c0d0b1e7-e843-499b-a18a-ab2e621a8e0d",
   "metadata": {
    "scrolled": true
   },
   "outputs": [],
   "source": [
    "metadata = pd.read_table(\n",
    "    data_dir / \"samples.tsv\", usecols=[\"directory\", \"n_clusters\"]\n",
    ").set_index(\"directory\")"
   ]
  },
  {
   "cell_type": "code",
   "execution_count": 5,
   "id": "02616ccb-0f7b-4391-9b33-2131c506e05b",
   "metadata": {},
   "outputs": [],
   "source": [
    "n_genes = 3_000\n",
    "n_pcs = 30\n",
    "k = 20"
   ]
  },
  {
   "cell_type": "code",
   "execution_count": 6,
   "id": "1a0a3e41-e7b3-4f5a-b9a0-d3f145a32863",
   "metadata": {},
   "outputs": [],
   "source": [
    "sample = metadata.loc[\"Br8100_151673\", :]"
   ]
  },
  {
   "cell_type": "code",
   "execution_count": 7,
   "id": "12faffee-8cdc-4c27-b8f8-23e745c61d44",
   "metadata": {},
   "outputs": [
    {
     "name": "stderr",
     "output_type": "stream",
     "text": [
      "/dh-projects/ag-ishaque/analysis/muellni/envs/spicemix/lib/python3.10/site-packages/tqdm/auto.py:21: TqdmWarning: IProgress not found. Please update jupyter and ipywidgets. See https://ipywidgets.readthedocs.io/en/stable/user_install.html\n",
      "  from .autonotebook import tqdm as notebook_tqdm\n",
      "/dh-projects/ag-ishaque/analysis/muellni/envs/spicemix/lib/python3.10/site-packages/dask/dataframe/__init__.py:31: FutureWarning: The legacy Dask DataFrame implementation is deprecated and will be removed in a future version. Set the configuration option `dataframe.query-planning` to `True` or None to enable the new Dask Dataframe implementation and silence this warning.\n",
      "  warnings.warn(\n",
      "/dh-projects/ag-ishaque/analysis/muellni/envs/spicemix/lib/python3.10/site-packages/numba/core/decorators.py:246: RuntimeWarning: nopython is set for njit and is ignored\n",
      "  warnings.warn('nopython is set for njit and is ignored', RuntimeWarning)\n"
     ]
    },
    {
     "data": {
      "text/plain": [
       "AnnData object with n_obs × n_vars = 3639 × 3000\n",
       "    obs: 'row', 'col', 'batch'\n",
       "    var: 'gene_version', 'gene_name', 'source', 'gene_biotype', 'highly_variable', 'means', 'dispersions', 'dispersions_norm'\n",
       "    uns: 'log1p', 'hvg', 'spatial_neighbors', 'adjacency_matrix', 'dataset_name'\n",
       "    obsm: 'spatial'"
      ]
     },
     "execution_count": 7,
     "metadata": {},
     "output_type": "execute_result"
    }
   ],
   "source": [
    "# generate the input file and preprocess\n",
    "import scanpy as sc\n",
    "from popari.components import PopariDataset\n",
    "from popari.io import save_anndata\n",
    "\n",
    "adata = get_anndata(data_dir / sample.name)\n",
    "\n",
    "sc.pp.normalize_total(adata, target_sum=1e4)\n",
    "sc.pp.log1p(adata)\n",
    "sc.pp.highly_variable_genes(adata, n_top_genes=n_genes)\n",
    "\n",
    "adata = PopariDataset(adata[:, adata.var[\"highly_variable\"]], \"processed\")\n",
    "adata.compute_spatial_neighbors()\n",
    "\n",
    "save_anndata(result_dir / f\"{sample.name}.h5ad\", [adata])"
   ]
  },
  {
   "cell_type": "code",
   "execution_count": 7,
   "id": "d95aab24-fbf1-4a50-b71d-8ec6c778db19",
   "metadata": {
    "scrolled": true
   },
   "outputs": [],
   "source": [
    "conda_path = \"~/miniconda3/bin/activate\"\n",
    "\n",
    "log_dir = result_dir / \"logs\"\n",
    "log_dir.mkdir(parents=True, exist_ok=True)\n",
    "\n",
    "\n",
    "path = Path(os.getcwd())"
   ]
  },
  {
   "cell_type": "code",
   "execution_count": 9,
   "id": "7c24a379-3913-414f-9c2b-e8731abddea2",
   "metadata": {},
   "outputs": [],
   "source": [
    "sample_log_dir = log_dir.resolve() / sample.name\n",
    "out_dir = result_dir / sample.name\n",
    "\n",
    "sample_log_dir.mkdir(parents=True, exist_ok=True)\n",
    "out_dir.mkdir(parents=True, exist_ok=True)"
   ]
  },
  {
   "cell_type": "code",
   "execution_count": 10,
   "id": "50620e4f-b7bd-4e9b-af4f-ce443b8a2657",
   "metadata": {},
   "outputs": [],
   "source": [
    "conda_env = \"spicemix\"\n",
    "conda_cmd = f\"source {conda_path} {conda_env}\"\n",
    "\n",
    "for reg in [12, 10, 8, 6, 4]:\n",
    "    cmd = (\n",
    "        f\"{path/'spicemix.py'} \"\n",
    "        f\"-i {result_dir / f'{sample.name}.h5ad'} \"\n",
    "        f\"-o {out_dir/f'spicemix_exp{reg}.h5ad'} \"\n",
    "        f\"--reg_exp {reg} \"\n",
    "        f\"--k {k} \"\n",
    "        f\"--seed {seed} \"\n",
    "    )\n",
    "\n",
    "    os.popen(\n",
    "        f\"sbatch -J {sample.name} --mem=64G -n 8 -N 1 --gres=gpu:1 --partition graphical-legacy --time=06:00:00 \"\n",
    "        f\"-o {sample_log_dir/f'spicemix_{reg}'}.txt \"\n",
    "        f'--wrap=\"{conda_cmd} && {cmd}\" '\n",
    "    ).read()"
   ]
  }
 ],
 "metadata": {
  "kernelspec": {
   "display_name": "Python [conda env:muellni-spatialleiden]",
   "language": "python",
   "name": "conda-env-muellni-spatialleiden-py"
  },
  "language_info": {
   "codemirror_mode": {
    "name": "ipython",
    "version": 3
   },
   "file_extension": ".py",
   "mimetype": "text/x-python",
   "name": "python",
   "nbconvert_exporter": "python",
   "pygments_lexer": "ipython3",
   "version": "3.10.14"
  }
 },
 "nbformat": 4,
 "nbformat_minor": 5
}
