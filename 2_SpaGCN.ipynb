{
 "cells": [
  {
   "cell_type": "code",
   "execution_count": null,
   "id": "dfb6c73e-c6d7-4588-8c12-567ea4eeabf6",
   "metadata": {},
   "outputs": [],
   "source": [
    "import random\n",
    "from pathlib import Path\n",
    "\n",
    "import anndata as ad\n",
    "import numpy as np\n",
    "import pandas as pd\n",
    "from PIL import Image\n",
    "import scanpy as sc\n",
    "import scipy as sp\n",
    "import SpaGCN as spg\n",
    "import torch\n",
    "\n",
    "\n",
    "# disable DecompressionBombWarning\n",
    "Image.MAX_IMAGE_PIXELS = None"
   ]
  },
  {
   "cell_type": "code",
   "execution_count": null,
   "id": "859ecd66-6c44-4b32-8ece-ac0da99e822e",
   "metadata": {},
   "outputs": [],
   "source": [
    "data_dir = Path(\"./data\")\n",
    "result_dir = Path(\"./results\")\n",
    "\n",
    "technology = \"Visium\"\n",
    "seed = 42\n",
    "\n",
    "alpha = 1\n",
    "beta = 49\n",
    "p = 0.5"
   ]
  },
  {
   "cell_type": "code",
   "execution_count": null,
   "id": "b1338605-5ea2-4c2f-86e8-c386dbe0331d",
   "metadata": {},
   "outputs": [],
   "source": [
    "metadata = pd.read_table(data_dir / \"samples.tsv\").loc[:, [\"directory\", \"n_clusters\"]]"
   ]
  },
  {
   "cell_type": "code",
   "execution_count": null,
   "id": "e14c1ef8-4157-4d16-92f2-d2f1e6d450cd",
   "metadata": {},
   "outputs": [],
   "source": [
    "# Set seed\n",
    "random.seed(seed)\n",
    "torch.manual_seed(seed)\n",
    "np.random.seed(seed)"
   ]
  },
  {
   "cell_type": "code",
   "execution_count": null,
   "id": "31a05e97-f76c-4347-b3f2-cf07c3a28196",
   "metadata": {},
   "outputs": [],
   "source": [
    "def get_anndata(path):\n",
    "    X = sp.io.mmread(path / \"counts.mtx\").tocsr()\n",
    "\n",
    "    observations = pd.read_table(path / \"observations.tsv\", index_col=0)\n",
    "    features = pd.read_table(path / \"features.tsv\", index_col=0)\n",
    "\n",
    "    coordinates = (\n",
    "        pd.read_table(path / \"coordinates.tsv\", index_col=0)\n",
    "        .loc[observations.index, :]\n",
    "        .to_numpy()\n",
    "    )\n",
    "\n",
    "    adata = ad.AnnData(\n",
    "        X=X, obs=observations, var=features, obsm={\"spatial_pixel\": coordinates}\n",
    "    )\n",
    "\n",
    "    adata.uns[\"image\"] = np.array(Image.open(path / \"H_E.tiff\"))\n",
    "\n",
    "    return adata"
   ]
  },
  {
   "cell_type": "code",
   "execution_count": null,
   "id": "50d5b4f3-09d3-4b0e-9a4f-fbb956f4bcef",
   "metadata": {
    "scrolled": true
   },
   "outputs": [],
   "source": [
    "for _, sample in metadata.iterrows():\n",
    "    print(\"Processing \" + sample.directory)\n",
    "\n",
    "    sample_dir = data_dir / sample.directory\n",
    "    out_dir = result_dir / sample.directory\n",
    "    adata = get_anndata(sample_dir)\n",
    "\n",
    "    adj = spg.calculate_adj_matrix(\n",
    "        adata.obs[\"col\"],\n",
    "        adata.obs[\"row\"],\n",
    "        adata.obsm[\"spatial_pixel\"][:, 0],\n",
    "        adata.obsm[\"spatial_pixel\"][:, 1],\n",
    "        image=adata.uns[\"image\"],\n",
    "        alpha=alpha,\n",
    "        beta=beta,\n",
    "        histology=True,\n",
    "    )\n",
    "\n",
    "    spg.prefilter_genes(adata, min_cells=3)\n",
    "    spg.prefilter_specialgenes(adata)\n",
    "    adata.X = adata.X.astype(\"float64\")\n",
    "    sc.pp.normalize_per_cell(adata)\n",
    "    sc.pp.log1p(adata)\n",
    "\n",
    "    clf = spg.SpaGCN()\n",
    "\n",
    "    # Find the l value given p\n",
    "    l = spg.search_l(p, adj)\n",
    "    clf.set_l(l)\n",
    "\n",
    "    # Search for suitable resolution\n",
    "    res = spg.search_res(\n",
    "        adata, adj, l, sample.n_clusters, r_seed=seed, t_seed=seed, n_seed=seed\n",
    "    )\n",
    "\n",
    "    clf.train(adata, adj, res=res)\n",
    "\n",
    "    y_pred, prob = clf.predict()\n",
    "\n",
    "    adata.obs[\"cluster\"] = pd.Series(y_pred, index=adata.obs_names, dtype=\"category\")\n",
    "\n",
    "    # Do cluster refinement(optional)\n",
    "    adj_2d = spg.calculate_adj_matrix(\n",
    "        adata.obs[\"col\"], adata.obs[\"row\"], histology=False\n",
    "    )\n",
    "\n",
    "    refined_pred = spg.refine(\n",
    "        sample_id=adata.obs_names.tolist(),\n",
    "        pred=adata.obs[\"cluster\"].tolist(),\n",
    "        dis=adj_2d,\n",
    "        shape=\"hexagon\",\n",
    "    )\n",
    "\n",
    "    adata.obs[\"refined_cluster\"] = pd.Series(\n",
    "        refined_pred, index=adata.obs_names, dtype=\"category\"\n",
    "    )\n",
    "\n",
    "    # label_df = adata.obs[[\"cluster\"]]\n",
    "    label_df_ref = adata.obs[[\"refined_cluster\"]]\n",
    "\n",
    "    ## Write output\n",
    "    out_dir.mkdir(parents=True, exist_ok=True)\n",
    "\n",
    "    label_df.columns = [\"label\"]\n",
    "    label_df.to_csv(out_dir / \"SpaGCN.tsv\", sep=\"\\t\", index_label=\"\")"
   ]
  }
 ],
 "metadata": {
  "kernelspec": {
   "display_name": "SpaGCN",
   "language": "python",
   "name": "py_spagcn"
  },
  "language_info": {
   "codemirror_mode": {
    "name": "ipython",
    "version": 3
   },
   "file_extension": ".py",
   "mimetype": "text/x-python",
   "name": "python",
   "nbconvert_exporter": "python",
   "pygments_lexer": "ipython3",
   "version": "3.8.18"
  }
 },
 "nbformat": 4,
 "nbformat_minor": 5
}
