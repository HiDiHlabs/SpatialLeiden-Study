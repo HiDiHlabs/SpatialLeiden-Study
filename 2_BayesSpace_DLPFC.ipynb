{
 "cells": [
  {
   "cell_type": "code",
   "execution_count": 1,
   "id": "1c38b957-a30e-4f86-a029-7adae7370581",
   "metadata": {
    "scrolled": true
   },
   "outputs": [
    {
     "name": "stderr",
     "output_type": "stream",
     "text": [
      "Warning message:\n",
      "“package ‘matrixStats’ was built under R version 4.3.3”\n"
     ]
    }
   ],
   "source": [
    "suppressPackageStartupMessages(library(BayesSpace))"
   ]
  },
  {
   "cell_type": "code",
   "execution_count": 2,
   "id": "d6265892-27d0-41d8-9957-775a69396276",
   "metadata": {},
   "outputs": [],
   "source": [
    "data_dir <- \"./data/LIBD_DLPFC\"\n",
    "result_dir <- \"./results/LIBD_DLPFC\""
   ]
  },
  {
   "cell_type": "code",
   "execution_count": 3,
   "id": "84d52261-14db-4b6c-95af-dca4960aeb66",
   "metadata": {},
   "outputs": [],
   "source": [
    "set.seed(42)"
   ]
  },
  {
   "cell_type": "code",
   "execution_count": 4,
   "id": "835ad9a1-1252-47a3-8e19-552efc17d62e",
   "metadata": {},
   "outputs": [],
   "source": [
    "get_SingleCellExperiment <- function(path) {\n",
    "    feature_file <- file.path(path, \"features.tsv\")\n",
    "    observation_file <- file.path(path, \"observations.tsv\")\n",
    "    matrix_file <- file.path(path, \"counts.mtx\")\n",
    "\n",
    "    rowData <- read.delim(feature_file, stringsAsFactors = FALSE, row.names = 1)\n",
    "    colData <- read.delim(observation_file, stringsAsFactors = FALSE, row.names = 1)\n",
    "    counts <- as(Matrix::t(Matrix::readMM(matrix_file)), \"CsparseMatrix\")\n",
    "\n",
    "    sce <- SingleCellExperiment(\n",
    "        rowData = rowData,\n",
    "        colData = colData,\n",
    "        assays = list(counts = counts)\n",
    "    )\n",
    "    return(sce)\n",
    "}\n",
    "\n",
    "run_BayesSpace <- function(\n",
    "    sce,\n",
    "    n_clusters = 7,\n",
    "    platform = \"Visium\",\n",
    "    n_components = 15,\n",
    "    n_HVG = 2000) {\n",
    "    \n",
    "    sce <- spatialPreprocess(\n",
    "        sce,\n",
    "        platform = platform,\n",
    "        n.PCs = n_components,\n",
    "        n.HVGs = n_HVG,\n",
    "        log.normalize = TRUE\n",
    "    )\n",
    "\n",
    "    sce <- spatialCluster(\n",
    "        sce,\n",
    "        q = n_clusters,\n",
    "        d = n_components,\n",
    "        platform = platform\n",
    "    )\n",
    "    return(sce)\n",
    "}\n",
    "\n",
    "write_labels_to_tsv <- function(sce, path, col_name = \"spatial.cluster\") {\n",
    "    label_df <- as.data.frame(colData(sce))[c(col_name)]\n",
    "\n",
    "    dir.create(path, showWarnings = FALSE, recursive = TRUE)\n",
    "\n",
    "    colnames(label_df) <- c(\"label\")\n",
    "    write.table(\n",
    "        label_df,\n",
    "        file = file.path(path, \"BayesSpace.tsv\"),\n",
    "        sep = \"\\t\",\n",
    "        col.names = NA,\n",
    "        quote = FALSE\n",
    "    )\n",
    "}"
   ]
  },
  {
   "cell_type": "code",
   "execution_count": 5,
   "id": "ba3cc173-28ff-436e-a95a-deff7df98d27",
   "metadata": {},
   "outputs": [],
   "source": [
    "metadata <- read.delim(\n",
    "    file.path(data_dir, \"samples.tsv\"),\n",
    "    stringsAsFactors = FALSE,\n",
    "    row.names = 1\n",
    ")[, c(\"directory\", \"n_clusters\")]"
   ]
  },
  {
   "cell_type": "code",
   "execution_count": null,
   "id": "5bbc53b0-2730-4bb5-8cb9-604c69f13dd9",
   "metadata": {
    "scrolled": true
   },
   "outputs": [
    {
     "name": "stdout",
     "output_type": "stream",
     "text": [
      "[1] \"Processing Br5292_151507\"\n"
     ]
    },
    {
     "name": "stderr",
     "output_type": "stream",
     "text": [
      "Neighbors were identified for 4226 out of 4226 spots.\n",
      "\n",
      "Fitting model...\n",
      "\n",
      "Calculating labels using iterations 1000 through 50000.\n",
      "\n"
     ]
    },
    {
     "name": "stdout",
     "output_type": "stream",
     "text": [
      "[1] \"Processing Br5292_151508\"\n"
     ]
    },
    {
     "name": "stderr",
     "output_type": "stream",
     "text": [
      "Neighbors were identified for 4381 out of 4384 spots.\n",
      "\n",
      "Fitting model...\n",
      "\n",
      "Calculating labels using iterations 1000 through 50000.\n",
      "\n"
     ]
    },
    {
     "name": "stdout",
     "output_type": "stream",
     "text": [
      "[1] \"Processing Br5292_151509\"\n"
     ]
    },
    {
     "name": "stderr",
     "output_type": "stream",
     "text": [
      "Neighbors were identified for 4789 out of 4789 spots.\n",
      "\n",
      "Fitting model...\n",
      "\n",
      "Calculating labels using iterations 1000 through 50000.\n",
      "\n"
     ]
    },
    {
     "name": "stdout",
     "output_type": "stream",
     "text": [
      "[1] \"Processing Br5292_151510\"\n"
     ]
    },
    {
     "name": "stderr",
     "output_type": "stream",
     "text": [
      "Neighbors were identified for 4634 out of 4634 spots.\n",
      "\n",
      "Fitting model...\n",
      "\n",
      "Calculating labels using iterations 1000 through 50000.\n",
      "\n"
     ]
    },
    {
     "name": "stdout",
     "output_type": "stream",
     "text": [
      "[1] \"Processing Br5595_151669\"\n"
     ]
    },
    {
     "name": "stderr",
     "output_type": "stream",
     "text": [
      "Neighbors were identified for 3658 out of 3661 spots.\n",
      "\n",
      "Fitting model...\n",
      "\n",
      "Calculating labels using iterations 1000 through 50000.\n",
      "\n"
     ]
    },
    {
     "name": "stdout",
     "output_type": "stream",
     "text": [
      "[1] \"Processing Br5595_151670\"\n"
     ]
    },
    {
     "name": "stderr",
     "output_type": "stream",
     "text": [
      "Neighbors were identified for 3495 out of 3498 spots.\n",
      "\n",
      "Fitting model...\n",
      "\n",
      "Calculating labels using iterations 1000 through 50000.\n",
      "\n"
     ]
    },
    {
     "name": "stdout",
     "output_type": "stream",
     "text": [
      "[1] \"Processing Br5595_151671\"\n"
     ]
    },
    {
     "name": "stderr",
     "output_type": "stream",
     "text": [
      "Neighbors were identified for 4110 out of 4110 spots.\n",
      "\n",
      "Fitting model...\n",
      "\n",
      "Calculating labels using iterations 1000 through 50000.\n",
      "\n"
     ]
    },
    {
     "name": "stdout",
     "output_type": "stream",
     "text": [
      "[1] \"Processing Br5595_151672\"\n"
     ]
    },
    {
     "name": "stderr",
     "output_type": "stream",
     "text": [
      "Neighbors were identified for 4015 out of 4015 spots.\n",
      "\n",
      "Fitting model...\n",
      "\n",
      "Calculating labels using iterations 1000 through 50000.\n",
      "\n"
     ]
    },
    {
     "name": "stdout",
     "output_type": "stream",
     "text": [
      "[1] \"Processing Br8100_151673\"\n"
     ]
    },
    {
     "name": "stderr",
     "output_type": "stream",
     "text": [
      "Neighbors were identified for 3638 out of 3639 spots.\n",
      "\n",
      "Fitting model...\n",
      "\n",
      "Calculating labels using iterations 1000 through 50000.\n",
      "\n"
     ]
    },
    {
     "name": "stdout",
     "output_type": "stream",
     "text": [
      "[1] \"Processing Br8100_151674\"\n"
     ]
    },
    {
     "name": "stderr",
     "output_type": "stream",
     "text": [
      "Neighbors were identified for 3670 out of 3673 spots.\n",
      "\n",
      "Fitting model...\n",
      "\n",
      "Calculating labels using iterations 1000 through 50000.\n",
      "\n"
     ]
    },
    {
     "name": "stdout",
     "output_type": "stream",
     "text": [
      "[1] \"Processing Br8100_151675\"\n"
     ]
    },
    {
     "name": "stderr",
     "output_type": "stream",
     "text": [
      "Neighbors were identified for 3586 out of 3592 spots.\n",
      "\n",
      "Fitting model...\n",
      "\n",
      "Calculating labels using iterations 1000 through 50000.\n",
      "\n"
     ]
    },
    {
     "name": "stdout",
     "output_type": "stream",
     "text": [
      "[1] \"Processing Br8100_151676\"\n"
     ]
    },
    {
     "name": "stderr",
     "output_type": "stream",
     "text": [
      "Neighbors were identified for 3456 out of 3460 spots.\n",
      "\n",
      "Fitting model...\n",
      "\n"
     ]
    }
   ],
   "source": [
    "for (i in 1:nrow(metadata)) {\n",
    "    sample <- metadata[i, ]\n",
    "    print(paste(\"Processing\", sample[[\"directory\"]]))\n",
    "    sce <- get_SingleCellExperiment(file.path(data_dir, sample[[\"directory\"]]))\n",
    "    sce <- run_BayesSpace(sce, n_clusters = sample[[\"n_clusters\"]])\n",
    "    write_labels_to_tsv(sce, file.path(result_dir, sample[[\"directory\"]]))\n",
    "}"
   ]
  }
 ],
 "metadata": {
  "kernelspec": {
   "display_name": "R [conda env:muellni-bayesspace]",
   "language": "R",
   "name": "conda-env-muellni-bayesspace-r"
  },
  "language_info": {
   "codemirror_mode": "r",
   "file_extension": ".r",
   "mimetype": "text/x-r-source",
   "name": "R",
   "pygments_lexer": "r",
   "version": "4.3.1"
  }
 },
 "nbformat": 4,
 "nbformat_minor": 5
}
