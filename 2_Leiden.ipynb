{
 "cells": [
  {
   "cell_type": "code",
   "execution_count": null,
   "id": "9453d41c-c85a-4919-8b7b-eb59860619d5",
   "metadata": {},
   "outputs": [],
   "source": [
    "import random\n",
    "from pathlib import Path\n",
    "\n",
    "import anndata as ad\n",
    "import igraph as ig\n",
    "import leidenalg as la\n",
    "import matplotlib.pyplot as plt\n",
    "import numpy as np\n",
    "import pandas as pd\n",
    "import scanpy as sc\n",
    "import seaborn as sns\n",
    "import scipy as sp\n",
    "import squidpy as sq\n",
    "from scipy.sparse import find\n",
    "from sklearn.metrics import adjusted_rand_score"
   ]
  },
  {
   "cell_type": "code",
   "execution_count": null,
   "id": "3a44293d-7e68-431d-8114-0f1274cc57bb",
   "metadata": {},
   "outputs": [],
   "source": [
    "data_dir = Path(\"./data\")\n",
    "result_dir = Path(\"./results\")\n",
    "\n",
    "seed = 42"
   ]
  },
  {
   "cell_type": "code",
   "execution_count": null,
   "id": "6c4d5f5a-0931-425f-82e3-dc6098c7d19b",
   "metadata": {
    "scrolled": true
   },
   "outputs": [],
   "source": [
    "metadata = pd.read_table(\n",
    "    data_dir / \"samples.tsv\", usecols=[\"directory\", \"n_clusters\"]\n",
    ").set_index(\"directory\")"
   ]
  },
  {
   "cell_type": "code",
   "execution_count": null,
   "id": "782c824c-ad40-485f-8a8f-f2941fd883d8",
   "metadata": {},
   "outputs": [],
   "source": [
    "def get_anndata(path):\n",
    "    X = sp.io.mmread(path / \"counts.mtx\").tocsr()\n",
    "\n",
    "    observations = pd.read_table(path / \"observations.tsv\", index_col=0)\n",
    "    features = pd.read_table(path / \"features.tsv\", index_col=0)\n",
    "\n",
    "    coordinates = (\n",
    "        pd.read_table(path / \"coordinates.tsv\", index_col=0)\n",
    "        .loc[observations.index, :]\n",
    "        .to_numpy()\n",
    "    )\n",
    "\n",
    "    adata = ad.AnnData(\n",
    "        X=X, obs=observations, var=features, obsm={\"spatial\": coordinates}\n",
    "    )\n",
    "\n",
    "    return adata"
   ]
  },
  {
   "cell_type": "markdown",
   "id": "40f5079c-0e32-451d-90da-b0c395acdaf0",
   "metadata": {},
   "source": [
    "# Leiden"
   ]
  },
  {
   "cell_type": "code",
   "execution_count": null,
   "id": "77b53e60-3d03-411c-a079-defa6a179212",
   "metadata": {},
   "outputs": [],
   "source": [
    "def search_resolution(\n",
    "    adata, ncluster, start=1, step=0.1, n_iterations=15, seed=42, **kwargs\n",
    "):\n",
    "    # adapted from SpaGCN\n",
    "    res = start\n",
    "    sc.tl.leiden(adata, resolution=res, random_state=seed, **kwargs)\n",
    "    old_ncluster = adata.obs[\"leiden\"].cat.categories.size\n",
    "    iter = 1\n",
    "    while old_ncluster != ncluster:\n",
    "        old_sign = 1 if (old_ncluster < ncluster) else -1\n",
    "        sc.tl.leiden(\n",
    "            adata, resolution=res + step * old_sign, random_state=seed, **kwargs\n",
    "        )\n",
    "        new_ncluster = adata.obs[\"leiden\"].cat.categories.size\n",
    "        if new_ncluster == ncluster:\n",
    "            res = res + step * old_sign\n",
    "            print(f\"Recommended res = {res:.2f}\")\n",
    "            return res\n",
    "        new_sign = 1 if (new_ncluster < ncluster) else -1\n",
    "        if new_sign == old_sign:\n",
    "            res = res + step * old_sign\n",
    "            # print(f\"Res changed to {res:.2f}\")\n",
    "            old_ncluster = new_ncluster\n",
    "        else:\n",
    "            step = step / 2\n",
    "            # print(f\"Step changed to {step:.2f}\")\n",
    "        if iter > n_iterations:\n",
    "            print(\"Exact resolution not found\")\n",
    "            print(f\"Recommended res =  {res:.2f}\")\n",
    "            return res\n",
    "        iter += 1\n",
    "    print(f\"Recommended res = {res:.2f}\")\n",
    "    return res"
   ]
  },
  {
   "cell_type": "code",
   "execution_count": null,
   "id": "c843ae7c-345b-4e71-bfc7-fc7552df7830",
   "metadata": {},
   "outputs": [],
   "source": [
    "def preprocess_adata(adata, seed=42, genes=1000, n_pcs=30):\n",
    "    sc.pp.filter_genes(adata, min_cells=3)\n",
    "    sc.pp.highly_variable_genes(adata, flavor=\"seurat_v3\", n_top_genes=genes)\n",
    "    sc.pp.normalize_total(adata, target_sum=1e4)\n",
    "    sc.pp.log1p(adata)\n",
    "    sc.tl.pca(adata, n_comps=n_pcs, random_state=seed)\n",
    "    sc.pp.neighbors(adata, random_state=seed)\n",
    "\n",
    "\n",
    "def run_leiden(adata, n_clusters, seed, **kwargs):\n",
    "    res = search_resolution(adata, n_clusters, seed=seed, **kwargs)\n",
    "\n",
    "    df = adata.obs[[\"leiden\"]]\n",
    "    df.columns = [\"label\"]\n",
    "    return df, res"
   ]
  },
  {
   "cell_type": "markdown",
   "id": "17c4b89d-1589-445f-b186-96bc4209bd9c",
   "metadata": {},
   "source": [
    "## Multiplex"
   ]
  },
  {
   "cell_type": "code",
   "execution_count": null,
   "id": "0a08aed9-dc59-47fe-ad2f-acf382b0aff7",
   "metadata": {},
   "outputs": [],
   "source": [
    "def _build_igraph(adjacency, directed=True):\n",
    "    # adapted from scanpy\n",
    "    sources, targets, weights = find(adjacency)\n",
    "    g = ig.Graph(directed=directed)\n",
    "    g.add_vertices(adjacency.shape[0])\n",
    "    g.add_edges(list(zip(sources, targets)))\n",
    "    g.es[\"weight\"] = weights\n",
    "    if g.vcount() != adjacency.shape[0]:\n",
    "        raise RuntimeError(\n",
    "            f\"The constructed graph has only {g.vcount()} nodes. \"\n",
    "            \"Your adjacency matrix contained redundant nodes.\"\n",
    "        )\n",
    "    return g"
   ]
  },
  {
   "cell_type": "code",
   "execution_count": null,
   "id": "a14cfa62-7db8-4ed8-b0fa-bf6752bdfef3",
   "metadata": {},
   "outputs": [],
   "source": [
    "def search_resolution_multiplex(\n",
    "    adata, ncluster, start=0.4, step=0.1, n_iterations=15, seed=42, **kwargs\n",
    "):\n",
    "    # adapted from SpaGCN\n",
    "    res = start\n",
    "    spatial_partition_kwargs = kwargs.pop(\"spatial_partition_kwargs\", dict())\n",
    "    spatial_partition_kwargs[\"resolution_parameter\"] = res\n",
    "    leiden_multiplex(\n",
    "        adata, spatial_partition_kwargs=spatial_partition_kwargs, seed=seed, **kwargs\n",
    "    )\n",
    "    old_ncluster = adata.obs[\"leiden_multiplex\"].cat.categories.size\n",
    "    iter = 1\n",
    "    while old_ncluster != ncluster:\n",
    "        old_sign = 1 if (old_ncluster < ncluster) else -1\n",
    "        spatial_partition_kwargs[\"resolution_parameter\"] = res + step * old_sign\n",
    "        leiden_multiplex(\n",
    "            adata,\n",
    "            spatial_partition_kwargs=spatial_partition_kwargs,\n",
    "            seed=seed,\n",
    "            **kwargs,\n",
    "        )\n",
    "        new_ncluster = adata.obs[\"leiden_multiplex\"].cat.categories.size\n",
    "        if new_ncluster == ncluster:\n",
    "            res = res + step * old_sign\n",
    "            print(f\"Recommended res = {res:.2f}\")\n",
    "            return res\n",
    "        new_sign = 1 if (new_ncluster < ncluster) else -1\n",
    "        if new_sign == old_sign:\n",
    "            res = res + step * old_sign\n",
    "            # print(f\"Res changed to {res:.2f}\")\n",
    "            old_ncluster = new_ncluster\n",
    "        else:\n",
    "            step = step / 2\n",
    "            # print(f\"Step changed to {step:.2f}\")\n",
    "        if iter > n_iterations:\n",
    "            print(\"Exact resolution not found\")\n",
    "            print(f\"Recommended res = {res:.2f}\")\n",
    "            return res\n",
    "        iter += 1\n",
    "    print(f\"Recommended res = {res:.2f}\")\n",
    "    return res"
   ]
  },
  {
   "cell_type": "code",
   "execution_count": null,
   "id": "8eb6ed4d-feea-4391-b491-39cace7cc638",
   "metadata": {},
   "outputs": [],
   "source": [
    "def leiden_multiplex(\n",
    "    adata,\n",
    "    key_added: str = \"leiden_multiplex\",\n",
    "    directed: tuple[bool, bool] = (True, True),\n",
    "    use_weights: bool = True,\n",
    "    n_iterations: int = -1,\n",
    "    partition_type=la.RBConfigurationVertexPartition,\n",
    "    scale_graph_weights: tuple[bool, bool] = (False, False),\n",
    "    layer_weights: tuple[int, int] = (1, 1),\n",
    "    spatial_partition_kwargs=None,\n",
    "    latent_partition_kwargs=None,\n",
    "    diff_threshold: float = 1e-05,\n",
    "    seed=42,\n",
    "):\n",
    "    spatial_distance_key = \"spatial_distances\"\n",
    "    latent_distance_key = \"connectivities\"\n",
    "\n",
    "    latent_distances = adata.obsp[latent_distance_key]\n",
    "    spatial_distances = adata.obsp[spatial_distance_key]\n",
    "\n",
    "    if scale_graph_weights[0]:\n",
    "        percentile = np.percentile(latent_distances.data, 95)\n",
    "        latent_distances = latent_distances.multiply(1 / percentile)\n",
    "    if scale_graph_weights[1]:\n",
    "        percentile = np.percentile(spatial_distances.data, 95)\n",
    "        spatial_distances = spatial_distances.multiply(1 / percentile)\n",
    "\n",
    "    adjacency_latent = _build_igraph(latent_distances, directed=directed[0])\n",
    "    adjacency_spatial = _build_igraph(spatial_distances, directed=directed[1])\n",
    "\n",
    "    # parameterise the partitions\n",
    "    if spatial_partition_kwargs is None:\n",
    "        spatial_partition_kwargs = dict()\n",
    "    if latent_partition_kwargs is None:\n",
    "        latent_partition_kwargs = dict()\n",
    "\n",
    "    if use_weights:\n",
    "        spatial_partition_kwargs[\"weights\"] = \"weight\"\n",
    "        latent_partition_kwargs[\"weights\"] = \"weight\"\n",
    "\n",
    "    latent_part = partition_type(adjacency_latent, **latent_partition_kwargs)\n",
    "    spatial_part = partition_type(adjacency_spatial, **spatial_partition_kwargs)\n",
    "    optimiser = la.Optimiser()\n",
    "    optimiser.set_rng_seed(seed)\n",
    "\n",
    "    diff = optimiser.optimise_partition_multiplex(\n",
    "        [latent_part, spatial_part],\n",
    "        layer_weights=list(layer_weights),\n",
    "        n_iterations=n_iterations,\n",
    "    )\n",
    "\n",
    "    adata.obs[key_added] = np.array(latent_part.membership)\n",
    "    adata.obs[key_added] = adata.obs[key_added].astype(\"category\")\n",
    "\n",
    "\n",
    "def run_leiden_multiplex(adata, n_clusters, seed, **kwargs):\n",
    "    res = search_resolution_multiplex(adata, n_clusters, seed=seed, **kwargs)\n",
    "\n",
    "    df = adata.obs[[\"leiden_multiplex\"]]\n",
    "    df.columns = [\"label\"]\n",
    "    return df, res"
   ]
  },
  {
   "cell_type": "markdown",
   "id": "e02284a2-0ab2-4811-a0e6-51f377bad623",
   "metadata": {},
   "source": [
    "# Results"
   ]
  },
  {
   "cell_type": "markdown",
   "id": "90590e1f-9209-4b7b-ae71-b4ab2d4dc052",
   "metadata": {},
   "source": [
    "## Impact of layer weight ratio"
   ]
  },
  {
   "cell_type": "code",
   "execution_count": null,
   "id": "48cf2d1a-be41-4408-942b-5a00b2551a1e",
   "metadata": {},
   "outputs": [],
   "source": [
    "sample = metadata.loc[\"Br8100_151673\", :]"
   ]
  },
  {
   "cell_type": "code",
   "execution_count": null,
   "id": "259fcec2-284d-4309-a00e-7e1c29ec65b9",
   "metadata": {
    "scrolled": true
   },
   "outputs": [],
   "source": [
    "n_genes = 3_000\n",
    "n_pcs = 30\n",
    "\n",
    "out_dir = result_dir / \"weightratio_impact\" / sample.name\n",
    "\n",
    "adata = get_anndata(data_dir / sample.name)\n",
    "preprocess_adata(adata, genes=n_genes, n_pcs=n_pcs, seed=seed)\n",
    "\n",
    "leiden_df, res = run_leiden(adata, sample.n_clusters, seed=seed)\n",
    "\n",
    "out_dir.mkdir(parents=True, exist_ok=True)\n",
    "leiden_df.to_csv(out_dir / \"leiden.tsv\", sep=\"\\t\", index_label=\"\")\n",
    "\n",
    "sq.gr.spatial_neighbors(adata, coord_type=\"grid\", n_neighs=6)\n",
    "\n",
    "for weight_ratio in [0, 0.2, 0.4, 0.6, 0.8, 1, 5, 10]:\n",
    "    print(f\"ratio: {weight_ratio:.1f}\")\n",
    "    multiplex_df, res_multi = run_leiden_multiplex(\n",
    "        adata,\n",
    "        sample.n_clusters,\n",
    "        directed=(False, False),\n",
    "        scale_graph_weights=(False, False),\n",
    "        layer_weights=(1, weight_ratio),\n",
    "        latent_partition_kwargs={\"resolution_parameter\": res},\n",
    "        seed=seed,\n",
    "    )\n",
    "    multiplex_df.to_csv(\n",
    "        out_dir / f\"spatial_leiden_w{weight_ratio:.1f}.tsv\", sep=\"\\t\", index_label=\"\"\n",
    "    )"
   ]
  },
  {
   "cell_type": "markdown",
   "id": "1bfa180e-582c-455a-9c81-fd779f6ae012",
   "metadata": {},
   "source": [
    "## Cluster all samples"
   ]
  },
  {
   "cell_type": "markdown",
   "id": "03e89dca-306d-4ad2-a770-db17999c6542",
   "metadata": {},
   "source": [
    "### HVGs"
   ]
  },
  {
   "cell_type": "code",
   "execution_count": null,
   "id": "1193af9c-f6be-45de-aab8-c7b3345271c2",
   "metadata": {
    "scrolled": true
   },
   "outputs": [],
   "source": [
    "n_pcs = 30\n",
    "n_genes = 3_000\n",
    "weight_spatial = 0.8\n",
    "\n",
    "\n",
    "for name, sample in metadata.iterrows():\n",
    "    print(\"Processing \" + name)\n",
    "\n",
    "    sample_dir = data_dir / name\n",
    "    out_dir = result_dir / name\n",
    "\n",
    "    adata = get_anndata(sample_dir)\n",
    "    preprocess_adata(adata, genes=n_genes, n_pcs=n_pcs, seed=seed)\n",
    "\n",
    "    label_df, res = run_leiden(adata, sample.n_clusters, seed=seed)\n",
    "\n",
    "    # Multiplex\n",
    "    sq.gr.spatial_neighbors(adata, coord_type=\"grid\", n_neighs=6)\n",
    "    label_df_multi, res_multi = run_leiden_multiplex(\n",
    "        adata,\n",
    "        sample.n_clusters,\n",
    "        directed=(False, False),\n",
    "        scale_graph_weights=(False, False),\n",
    "        layer_weights=(1, weight_spatial),\n",
    "        latent_partition_kwargs={\"resolution_parameter\": res},\n",
    "        seed=seed,\n",
    "    )\n",
    "\n",
    "    ## Write output\n",
    "    out_dir.mkdir(parents=True, exist_ok=True)\n",
    "    label_df.to_csv(out_dir / \"leiden.tsv\", sep=\"\\t\", index_label=\"\")\n",
    "    label_df_multi.to_csv(out_dir / \"spatial_leiden.tsv\", sep=\"\\t\", index_label=\"\")"
   ]
  },
  {
   "cell_type": "markdown",
   "id": "ef43de3c-0f5a-4dff-be4f-9621f6310c73",
   "metadata": {},
   "source": [
    "### SVGs"
   ]
  },
  {
   "cell_type": "code",
   "execution_count": null,
   "id": "3986b147-7d6b-49e4-81a6-e668404b4f6a",
   "metadata": {
    "scrolled": true
   },
   "outputs": [],
   "source": [
    "n_pcs = 30\n",
    "n_genes = 3_000\n",
    "weight_spatial = 0.8\n",
    "\n",
    "for name, sample in metadata.iterrows():\n",
    "    print(\"Processing \" + name)\n",
    "\n",
    "    sample_dir = data_dir / name\n",
    "    out_dir = result_dir / name\n",
    "\n",
    "    adata = get_anndata(sample_dir)\n",
    "    preprocess_adata(adata, genes=n_genes, n_pcs=n_pcs, seed=seed)\n",
    "    sq.gr.spatial_neighbors(adata, coord_type=\"grid\", n_neighs=6)\n",
    "    sq.gr.spatial_autocorr(adata, genes=adata.var_names, mode=\"moran\", seed=seed)\n",
    "    genes = adata.uns[\"moranI\"].nlargest(n_genes, columns=\"I\", keep=\"all\").index\n",
    "    adata.obsm[\"X_svg_pca\"] = sc.tl.pca(\n",
    "        adata[:, genes].X, n_comps=n_pcs, random_state=seed\n",
    "    )\n",
    "    sc.pp.neighbors(adata, use_rep=\"X_svg_pca\", random_state=seed)\n",
    "\n",
    "    label_df, res = run_leiden(adata, sample.n_clusters, seed=seed)\n",
    "\n",
    "    # Multiplex\n",
    "    sq.gr.spatial_neighbors(adata, coord_type=\"grid\", n_neighs=6)\n",
    "    label_df_multi, res_multi = run_leiden_multiplex(\n",
    "        adata,\n",
    "        sample.n_clusters,\n",
    "        directed=(False, False),\n",
    "        scale_graph_weights=(False, False),\n",
    "        layer_weights=(1, weight_spatial),\n",
    "        latent_partition_kwargs={\"resolution_parameter\": res},\n",
    "        seed=seed,\n",
    "    )\n",
    "\n",
    "    ## Write output\n",
    "    out_dir.mkdir(parents=True, exist_ok=True)\n",
    "    label_df.to_csv(out_dir / \"leiden_svg.tsv\", sep=\"\\t\", index_label=\"\")\n",
    "    label_df_multi.to_csv(out_dir / \"spatial_leiden_svg.tsv\", sep=\"\\t\", index_label=\"\")"
   ]
  }
 ],
 "metadata": {
  "kernelspec": {
   "display_name": "scverse",
   "language": "python",
   "name": "scverse"
  },
  "language_info": {
   "codemirror_mode": {
    "name": "ipython",
    "version": 3
   },
   "file_extension": ".py",
   "mimetype": "text/x-python",
   "name": "python",
   "nbconvert_exporter": "python",
   "pygments_lexer": "ipython3",
   "version": "3.9.18"
  }
 },
 "nbformat": 4,
 "nbformat_minor": 5
}
