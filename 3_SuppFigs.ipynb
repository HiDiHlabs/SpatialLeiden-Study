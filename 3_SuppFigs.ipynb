{
 "cells": [
  {
   "cell_type": "code",
   "execution_count": null,
   "id": "1f4978ff-8cdd-4b13-b0f5-bbea86055942",
   "metadata": {},
   "outputs": [],
   "source": [
    "from pathlib import Path\n",
    "\n",
    "import matplotlib.pyplot as plt\n",
    "import numpy as np\n",
    "import pandas as pd\n",
    "import seaborn as sns\n",
    "from mpl_toolkits.axes_grid1.anchored_artists import AnchoredSizeBar\n",
    "from PIL import Image\n",
    "from scipy.optimize import linear_sum_assignment"
   ]
  },
  {
   "cell_type": "code",
   "execution_count": null,
   "id": "b4ebf911-96e2-456b-bccd-9da08b17df81",
   "metadata": {},
   "outputs": [],
   "source": [
    "results_dir = Path(\"./results\")\n",
    "data_dir = Path(\"./data\")\n",
    "fig_dir = results_dir / \"figures\""
   ]
  },
  {
   "cell_type": "code",
   "execution_count": null,
   "id": "dadd0b1a-9c66-497e-b113-ce82657220bb",
   "metadata": {},
   "outputs": [],
   "source": [
    "fig_dir.mkdir(parents=True, exist_ok=True)"
   ]
  },
  {
   "cell_type": "code",
   "execution_count": null,
   "id": "7859584e-5972-41ee-a2b3-1d0d74488ce8",
   "metadata": {},
   "outputs": [],
   "source": [
    "rename_methods = {\n",
    "    \"leiden\": \"Leiden HVG\",\n",
    "    \"spatial_leiden\": \"SpatialLeiden HVG\",\n",
    "    \"leiden_svg\": \"Leiden SVG\",\n",
    "    \"spatial_leiden_svg\": \"SpatialLeiden SVG\",\n",
    "}"
   ]
  },
  {
   "cell_type": "code",
   "execution_count": null,
   "id": "f6747324-7ac0-4399-8b51-fb4427ce5a55",
   "metadata": {},
   "outputs": [],
   "source": [
    "scale_factors = {\n",
    "    \"151676\": 96.38356730700866,\n",
    "    \"151675\": 96.39297012575229,\n",
    "    \"151674\": 96.3779209567421,\n",
    "    \"151673\": 96.40082438014726,\n",
    "    \"151672\": 96.366076971651,\n",
    "    \"151671\": 96.38644715313141,\n",
    "    \"151670\": 96.36089958505312,\n",
    "    \"151669\": 96.37890036828857,\n",
    "    \"151510\": 96.8900012037373,\n",
    "    \"151509\": 97.24346019692305,\n",
    "    \"151508\": 96.36956627416598,\n",
    "    \"151507\": 96.37511184430237,\n",
    "}"
   ]
  },
  {
   "cell_type": "code",
   "execution_count": null,
   "id": "43003dd1-0796-4713-8f28-2664366d96d4",
   "metadata": {},
   "outputs": [],
   "source": [
    "def remove_tick_and_label(ax):\n",
    "    ax.set(xticklabels=[], yticklabels=[], xlabel=None, ylabel=None)\n",
    "    ax.tick_params(left=False, bottom=False)\n",
    "\n",
    "\n",
    "def scatter_labels(df, name, ax, title=\"top\"):\n",
    "    _ = sns.scatterplot(df, x=\"x\", y=\"y\", hue=name, ax=ax, **scatter_kwargs)\n",
    "    ax.set(aspect=1, xlim=(0, df[\"x\"].max()), ylim=(df[\"y\"].max(), 0))\n",
    "    ax.legend([], [], frameon=False)\n",
    "    remove_tick_and_label(ax)\n",
    "    if title == \"top\":\n",
    "        ax.set_title(name)\n",
    "    elif title == \"left\":\n",
    "        ax.set_ylabel(name)"
   ]
  },
  {
   "cell_type": "markdown",
   "id": "11306efc-8671-40a3-8368-da9bacc07f65",
   "metadata": {},
   "source": [
    "# Supplementary Figure 1"
   ]
  },
  {
   "cell_type": "code",
   "execution_count": null,
   "id": "7091c925-75bc-42f7-8668-f92a4558087a",
   "metadata": {},
   "outputs": [],
   "source": [
    "sample = \"Br8100_151673\"\n",
    "\n",
    "\n",
    "def format_weight(f):\n",
    "    if float(f).is_integer():\n",
    "        return str(int(float(f)))\n",
    "    return f\n",
    "\n",
    "\n",
    "files = pd.DataFrame(\n",
    "    [(f.stem, f) for f in results_dir.glob(f\"weightratio_impact/{sample}/*.tsv\")],\n",
    "    columns=[\"method\", \"file\"],\n",
    ").assign(weight=lambda df: df[\"method\"].str.extract(\"_w([0-9.]+)\"))\n",
    "\n",
    "files[[\"method\", None]] = files[\"method\"].str.split(\"_w\", expand=True)\n",
    "\n",
    "files = files.assign(method=lambda df: df[\"method\"].replace(rename_methods))\n",
    "\n",
    "files.loc[lambda df: df[\"method\"] == \"SpatialLeiden HVG\", \"method\"] = (\n",
    "    files.loc[lambda df: df[\"method\"] == \"SpatialLeiden HVG\", \"method\"]\n",
    "    + \" (1:\"\n",
    "    + files.loc[lambda df: df[\"method\"] == \"SpatialLeiden HVG\", \"weight\"].map(\n",
    "        format_weight\n",
    "    )\n",
    "    + \")\"\n",
    ")\n",
    "\n",
    "files = (\n",
    "    files.set_index(\"method\")\n",
    "    .astype({\"weight\": float})\n",
    "    .sort_values(\"weight\", na_position=\"first\")[\"file\"]\n",
    ")"
   ]
  },
  {
   "cell_type": "code",
   "execution_count": null,
   "id": "66fa4e02-29a6-45af-abab-53386af4d649",
   "metadata": {},
   "outputs": [],
   "source": [
    "data = pd.read_table(data_dir / sample / \"coordinates.tsv\", index_col=0)\n",
    "data -= data.min(axis=0)\n",
    "\n",
    "for i, (name, file) in enumerate(files.items()):\n",
    "    labels_df = pd.read_table(file, index_col=0, dtype=\"category\")\n",
    "    labels_df.columns = [name]\n",
    "    data = data.merge(labels_df, left_index=True, right_index=True)\n",
    "\n",
    "# match clusters\n",
    "for i in range(2, data.shape[1] - 1):\n",
    "    contingency_table = pd.crosstab(data.iloc[:, i + 1], data.iloc[:, i])\n",
    "    row_ind, col_ind = linear_sum_assignment(contingency_table, maximize=True)\n",
    "    data.iloc[:, i + 1] = data.iloc[:, i + 1].cat.rename_categories(\n",
    "        dict(zip(contingency_table.index[row_ind], contingency_table.columns[col_ind]))\n",
    "    )"
   ]
  },
  {
   "cell_type": "code",
   "execution_count": null,
   "id": "a3a491dc-c4be-4757-ad64-14f2588be0b4",
   "metadata": {},
   "outputs": [],
   "source": [
    "scatter_kwargs = {\"s\": 8, \"linewidth\": 0}\n",
    "\n",
    "\n",
    "fig, axs = plt.subplots(nrows=3, ncols=3, sharex=True, sharey=True, figsize=(7.5, 9))\n",
    "\n",
    "for i, name in enumerate(data.columns[2:]):\n",
    "    scatter_labels(data, name, axs[i // 3, i % 3])\n",
    "\n",
    "fig.tight_layout(h_pad=2)\n",
    "fig.savefig(fig_dir / \"FigS1.pdf\", dpi=600)"
   ]
  },
  {
   "cell_type": "markdown",
   "id": "6a7e21c4-b9c8-41a5-8059-63fba2976e8f",
   "metadata": {},
   "source": [
    "# Patient Plots"
   ]
  },
  {
   "cell_type": "code",
   "execution_count": null,
   "id": "ad8f47d1-c5f4-4fd3-89e1-8bfd649141ff",
   "metadata": {},
   "outputs": [],
   "source": [
    "groundtruth = pd.DataFrame(\n",
    "    [(f.parent.name, f) for f in data_dir.glob(\"*/labels.tsv\")],\n",
    "    columns=[\"sample\", \"groundtruth\"],\n",
    ").set_index(\"sample\")\n",
    "\n",
    "image_files = pd.DataFrame(\n",
    "    [(f.parent.name, f) for f in data_dir.glob(\"*/H_E.tiff\")],\n",
    "    columns=[\"sample\", \"image\"],\n",
    ").set_index(\"sample\")\n",
    "\n",
    "coordinate_files = pd.DataFrame(\n",
    "    [(f.parent.name, f) for f in data_dir.glob(\"*/coordinates.tsv\")],\n",
    "    columns=[\"sample\", \"coordinates\"],\n",
    ").set_index(\"sample\")\n",
    "\n",
    "results = {\n",
    "    f.name: {tsv.stem: tsv for tsv in f.glob(\"*.tsv\")} for f in results_dir.glob(\"Br*\")\n",
    "}\n",
    "\n",
    "files = (\n",
    "    pd.DataFrame(results)\n",
    "    .transpose()\n",
    "    .merge(groundtruth, left_index=True, right_index=True)\n",
    "    .merge(image_files, left_index=True, right_index=True)\n",
    "    .merge(coordinate_files, left_index=True, right_index=True)\n",
    "    .rename(columns=rename_methods)\n",
    ")\n",
    "\n",
    "files.index = files.index.str.split(\"_\", expand=True).set_names([\"patient\", \"sample\"])"
   ]
  },
  {
   "cell_type": "code",
   "execution_count": null,
   "id": "c3faefa2-2d32-4851-bb41-0d947112a67d",
   "metadata": {},
   "outputs": [],
   "source": [
    "import matplotlib as mpl\n",
    "\n",
    "mpl.rcParams[\"axes.titlesize\"] = \"large\"\n",
    "mpl.rcParams[\"axes.labelsize\"] = \"large\"\n",
    "\n",
    "scatter_kwargs = {\"s\": 6, \"linewidth\": 0}"
   ]
  },
  {
   "cell_type": "code",
   "execution_count": null,
   "id": "3834a319-1e2d-4c05-a73b-72f441e2f4b6",
   "metadata": {},
   "outputs": [],
   "source": [
    "# disable DecompressionBombWarning\n",
    "Image.MAX_IMAGE_PIXELS = None\n",
    "\n",
    "\n",
    "mm = 1 / 2.54 / 10\n",
    "\n",
    "\n",
    "def plot_patient(metadata, patient):\n",
    "    metadata = metadata.loc[patient, :].sort_index()\n",
    "\n",
    "    fig, axs = plt.subplots(\n",
    "        nrows=8, ncols=4, sharex=\"col\", sharey=\"col\", figsize=(10, 20)\n",
    "    )\n",
    "\n",
    "    for i, (sample, files) in enumerate(metadata.iterrows()):\n",
    "        px_per_um = scale_factors[sample] / 65\n",
    "        image = np.array(Image.open(files.pop(\"image\")))\n",
    "        data = pd.read_table(files.pop(\"coordinates\"), index_col=0)\n",
    "\n",
    "        for name, file in files.items():\n",
    "            labels_df = pd.read_table(file, index_col=0)\n",
    "            labels_df.columns = [name]\n",
    "            labels_df[name] = labels_df[name].astype(\"category\")\n",
    "\n",
    "            data = data.merge(labels_df, left_index=True, right_index=True)\n",
    "\n",
    "        x_crop = (data[\"x\"].min(), data[\"x\"].max())\n",
    "        y_crop = (data[\"y\"].min(), data[\"y\"].max())\n",
    "\n",
    "        image = image[slice(*y_crop), slice(*x_crop)]\n",
    "        data = data.assign(\n",
    "            x=lambda df: df[\"x\"] - x_crop[0], y=lambda df: df[\"y\"] - y_crop[0]\n",
    "        )\n",
    "\n",
    "        _ = axs[0, i].imshow(image)\n",
    "        axs[0, i].set(title=sample)\n",
    "        remove_tick_and_label(axs[0, i])\n",
    "        scale_bar = AnchoredSizeBar(\n",
    "            axs[0, i].transData,\n",
    "            px_per_um * 1_000,\n",
    "            r\"1 mm\",\n",
    "            loc=\"lower right\",\n",
    "            frameon=False,\n",
    "        )\n",
    "        axs[0, i].add_artist(scale_bar)\n",
    "        if i == 0:\n",
    "            axs[0, i].set_ylabel(\"H & E\")\n",
    "            title = \"left\"\n",
    "        else:\n",
    "            title = None\n",
    "\n",
    "        scatter_labels(data, \"groundtruth\", axs[1, i], title)\n",
    "        scatter_labels(data, \"Leiden HVG\", axs[2, i], title)\n",
    "        scatter_labels(data, \"Leiden SVG\", axs[3, i], title)\n",
    "        scatter_labels(data, \"SpatialLeiden HVG\", axs[4, i], title)\n",
    "        scatter_labels(data, \"SpatialLeiden SVG\", axs[5, i], title)\n",
    "        scatter_labels(data, \"SpaGCN\", axs[6, i], title)\n",
    "        scatter_labels(data, \"BayesSpace\", axs[7, i], title)\n",
    "\n",
    "    fig.tight_layout()\n",
    "\n",
    "    return fig"
   ]
  },
  {
   "cell_type": "markdown",
   "id": "07fcc9f7-0917-426c-bfbc-934152fbde2d",
   "metadata": {},
   "source": [
    "## Supplementary Figure 2 (Br5292)"
   ]
  },
  {
   "cell_type": "code",
   "execution_count": null,
   "id": "85dcf500-fa3b-4f1e-a10c-67cbf187b063",
   "metadata": {},
   "outputs": [],
   "source": [
    "SFig2 = plot_patient(files, \"Br5292\")\n",
    "SFig2.tight_layout(h_pad=2)\n",
    "SFig2.savefig(fig_dir / \"FigS2.pdf\", dpi=600)"
   ]
  },
  {
   "cell_type": "markdown",
   "id": "cba523ad-f48e-43cf-b34b-50a156331532",
   "metadata": {},
   "source": [
    "## Supplementary Figure 3 (Br5595)"
   ]
  },
  {
   "cell_type": "code",
   "execution_count": null,
   "id": "55f0b2ff-61d7-4fb2-b221-4c16eaf388ae",
   "metadata": {},
   "outputs": [],
   "source": [
    "SFig3 = plot_patient(files, \"Br5595\")\n",
    "SFig3.tight_layout(h_pad=2)\n",
    "SFig3.savefig(fig_dir / \"FigS3.pdf\", dpi=600)"
   ]
  },
  {
   "cell_type": "markdown",
   "id": "e015878f-edb6-4407-a257-f11d195ce417",
   "metadata": {},
   "source": [
    "## Supplementary Figure 4 (Br8100)"
   ]
  },
  {
   "cell_type": "code",
   "execution_count": null,
   "id": "49a0458e-dc13-42bf-90f5-a4eac2c1fcb6",
   "metadata": {},
   "outputs": [],
   "source": [
    "SFig4 = plot_patient(files, \"Br8100\")\n",
    "SFig4.tight_layout(h_pad=2)\n",
    "SFig4.savefig(fig_dir / \"FigS4.pdf\", dpi=600)"
   ]
  }
 ],
 "metadata": {
  "kernelspec": {
   "display_name": "sklearn",
   "language": "python",
   "name": "py_sklearn"
  },
  "language_info": {
   "codemirror_mode": {
    "name": "ipython",
    "version": 3
   },
   "file_extension": ".py",
   "mimetype": "text/x-python",
   "name": "python",
   "nbconvert_exporter": "python",
   "pygments_lexer": "ipython3",
   "version": "3.12.0"
  }
 },
 "nbformat": 4,
 "nbformat_minor": 5
}
