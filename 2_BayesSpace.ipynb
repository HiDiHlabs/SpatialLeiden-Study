{
 "cells": [
  {
   "cell_type": "code",
   "execution_count": 1,
   "id": "1c38b957-a30e-4f86-a029-7adae7370581",
   "metadata": {
    "scrolled": true
   },
   "outputs": [],
   "source": [
    "suppressPackageStartupMessages(library(BayesSpace))"
   ]
  },
  {
   "cell_type": "code",
   "execution_count": 21,
   "id": "d6265892-27d0-41d8-9957-775a69396276",
   "metadata": {},
   "outputs": [],
   "source": [
    "data_dir <- \"./data\"\n",
    "result_dir <- \"./results\""
   ]
  },
  {
   "cell_type": "code",
   "execution_count": null,
   "id": "835ad9a1-1252-47a3-8e19-552efc17d62e",
   "metadata": {},
   "outputs": [],
   "source": [
    "get_SingleCellExperiment <- function(path) {\n",
    "    feature_file <- file.path(path, \"features.tsv\")\n",
    "    observation_file <- file.path(path, \"observations.tsv\")\n",
    "    matrix_file <- file.path(path, \"counts.mtx\")\n",
    "\n",
    "    rowData <- read.delim(feature_file, stringsAsFactors = FALSE, row.names = 1)\n",
    "    colData <- read.delim(observation_file, stringsAsFactors = FALSE, row.names = 1)\n",
    "    counts <- as(Matrix::t(Matrix::readMM(matrix_file)), \"CsparseMatrix\")\n",
    "\n",
    "    sce <- SingleCellExperiment(\n",
    "        rowData = rowData,\n",
    "        colData = colData,\n",
    "        assays = list(counts = counts)\n",
    "    )\n",
    "    return(sce)\n",
    "}\n",
    "\n",
    "run_BayesSpace <- function(sce, n_clusters = 7, platform = \"Visium\", n_components = 15, n_HVG = 2000) {\n",
    "    sce <- spatialPreprocess(\n",
    "        sce,\n",
    "        platform = platform,\n",
    "        n.PCs = n_components,\n",
    "        n.HVGs = n_HVG,\n",
    "        log.normalize = TRUE\n",
    "    )\n",
    "\n",
    "    sce <- spatialCluster(\n",
    "        sce,\n",
    "        q = n_clusters,\n",
    "        d = n_components,\n",
    "        platform = platform\n",
    "    )\n",
    "    return(sce)\n",
    "}\n",
    "\n",
    "write_labels_to_tsv <- function(sce, path, col_name = \"spatial.cluster\") {\n",
    "    label_df <- as.data.frame(colData(sce))[c(col_name)]\n",
    "\n",
    "    dir.create(path, showWarnings = FALSE, recursive = TRUE)\n",
    "\n",
    "    colnames(label_df) <- c(\"label\")\n",
    "    write.table(label_df, file = file.path(path, \"BayesSpace.tsv\"), sep = \"\\t\", col.names = NA, quote = FALSE)\n",
    "}"
   ]
  },
  {
   "cell_type": "code",
   "execution_count": 22,
   "id": "ba3cc173-28ff-436e-a95a-deff7df98d27",
   "metadata": {},
   "outputs": [],
   "source": [
    "metadata <- read.delim(\n",
    "    file.path(data_dir, \"samples.tsv\"),\n",
    "    stringsAsFactors = FALSE,\n",
    "    row.names = 1\n",
    ")[, c(\"directory\", \"n_clusters\")]"
   ]
  },
  {
   "cell_type": "code",
   "execution_count": null,
   "id": "5bbc53b0-2730-4bb5-8cb9-604c69f13dd9",
   "metadata": {},
   "outputs": [
    {
     "name": "stdout",
     "output_type": "stream",
     "text": [
      "[1] \"Processing Br5292_151507\"\n"
     ]
    },
    {
     "name": "stderr",
     "output_type": "stream",
     "text": [
      "Neighbors were identified for 4226 out of 4226 spots.\n",
      "\n",
      "Fitting model...\n",
      "\n",
      "Calculating labels using iterations 1000 through 50000.\n",
      "\n"
     ]
    },
    {
     "name": "stdout",
     "output_type": "stream",
     "text": [
      "[1] \"Processing Br5292_151508\"\n"
     ]
    },
    {
     "name": "stderr",
     "output_type": "stream",
     "text": [
      "Neighbors were identified for 4381 out of 4384 spots.\n",
      "\n",
      "Fitting model...\n",
      "\n",
      "Calculating labels using iterations 1000 through 50000.\n",
      "\n"
     ]
    },
    {
     "name": "stdout",
     "output_type": "stream",
     "text": [
      "[1] \"Processing Br5292_151509\"\n"
     ]
    },
    {
     "name": "stderr",
     "output_type": "stream",
     "text": [
      "Neighbors were identified for 4789 out of 4789 spots.\n",
      "\n",
      "Fitting model...\n",
      "\n"
     ]
    }
   ],
   "source": [
    "for (i in 1:nrow(metadata)) {\n",
    "    sample <- metadata[i, ]\n",
    "    print(paste(\"Processing\", sample[[\"directory\"]]))\n",
    "    sce <- get_SingleCellExperiment(file.path(data_dir, sample[[\"directory\"]]))\n",
    "    sce <- run_BayesSpace(sce, n_clusters = sample[[\"n_clusters\"]])\n",
    "    write_labels_to_tsv(sce, file.path(result_dir, sample[[\"directory\"]]))\n",
    "}"
   ]
  }
 ],
 "metadata": {
  "kernelspec": {
   "display_name": "R BayesSpace",
   "language": "R",
   "name": "r_bayesspace"
  },
  "language_info": {
   "codemirror_mode": "r",
   "file_extension": ".r",
   "mimetype": "text/x-r-source",
   "name": "R",
   "pygments_lexer": "r",
   "version": "4.3.1"
  }
 },
 "nbformat": 4,
 "nbformat_minor": 5
}
