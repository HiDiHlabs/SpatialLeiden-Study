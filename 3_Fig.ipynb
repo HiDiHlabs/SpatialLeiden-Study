{
 "cells": [
  {
   "cell_type": "code",
   "execution_count": null,
   "id": "4ce53c51-b833-4f0d-9ff8-f0f2f7b0fa63",
   "metadata": {},
   "outputs": [],
   "source": [
    "from pathlib import Path\n",
    "\n",
    "import matplotlib.pyplot as plt\n",
    "import numpy as np\n",
    "import pandas as pd\n",
    "import seaborn as sns\n",
    "from mpl_toolkits.axes_grid1.anchored_artists import AnchoredSizeBar\n",
    "from scipy.stats import wilcoxon\n",
    "from sklearn.metrics import adjusted_rand_score, normalized_mutual_info_score"
   ]
  },
  {
   "cell_type": "code",
   "execution_count": null,
   "id": "0c89f2d4-c779-4e24-8d13-c0f868e0b011",
   "metadata": {},
   "outputs": [],
   "source": [
    "results_dir = Path(\"./results\")\n",
    "data_dir = Path(\"./data\")\n",
    "fig_dir = results_dir / \"figures\""
   ]
  },
  {
   "cell_type": "code",
   "execution_count": null,
   "id": "835fe841-0a99-4d23-a294-0170797c5f3a",
   "metadata": {},
   "outputs": [],
   "source": [
    "fig_dir.mkdir(parents=True, exist_ok=True)"
   ]
  },
  {
   "cell_type": "code",
   "execution_count": null,
   "id": "da040668-244d-4f72-b1a8-28efd1f087c3",
   "metadata": {},
   "outputs": [],
   "source": [
    "rename_methods = {\n",
    "    \"leiden\": \"Leiden HVG\",\n",
    "    \"spatial_leiden\": \"SpatialLeiden HVG\",\n",
    "    \"leiden_svg\": \"Leiden SVG\",\n",
    "    \"spatial_leiden_svg\": \"SpatialLeiden SVG\",\n",
    "}"
   ]
  },
  {
   "cell_type": "code",
   "execution_count": null,
   "id": "9931465b-e036-45d0-bf0a-da634821bb10",
   "metadata": {},
   "outputs": [],
   "source": [
    "groundtruth = pd.DataFrame(\n",
    "    [(f.parent.name, f) for f in data_dir.glob(\"*/labels.tsv\")],\n",
    "    columns=[\"sample\", \"groundtruth\"],\n",
    ").set_index(\"sample\")\n",
    "\n",
    "results = {\n",
    "    f.name: {tsv.stem: tsv for tsv in f.glob(\"*.tsv\")} for f in results_dir.glob(\"Br*\")\n",
    "}\n",
    "\n",
    "label_files = (\n",
    "    pd.DataFrame(results)\n",
    "    .transpose()\n",
    "    .merge(groundtruth, left_index=True, right_index=True)\n",
    "    .rename(columns=rename_methods)\n",
    ")"
   ]
  },
  {
   "cell_type": "markdown",
   "id": "70c539c0-f425-47bf-8e67-aeb774c8be61",
   "metadata": {},
   "source": [
    "# ARI"
   ]
  },
  {
   "cell_type": "code",
   "execution_count": null,
   "id": "2747c377-fd42-4eea-86e1-581cb0e2a17c",
   "metadata": {},
   "outputs": [],
   "source": [
    "def calculate_score(fn, groundtruth, cluster, **kwargs):\n",
    "    domains = pd.read_table(cluster, index_col=0)[\"label\"].astype(\"category\").cat.codes\n",
    "    groundtruth = (\n",
    "        pd.read_table(groundtruth, index_col=0)[\"label\"].astype(\"category\").cat.codes\n",
    "    )\n",
    "    common_index = domains.index.intersection(groundtruth.index)\n",
    "    return fn(groundtruth.loc[common_index], domains.loc[common_index], **kwargs)\n",
    "\n",
    "\n",
    "def get_ncluster(file):\n",
    "    return pd.read_table(file)[\"label\"].astype(\"category\").cat.categories.size"
   ]
  },
  {
   "cell_type": "code",
   "execution_count": null,
   "id": "b6552cd3-1863-43ca-ac13-1dbb7bd377a3",
   "metadata": {},
   "outputs": [],
   "source": [
    "methods = label_files.columns.to_series().loc[lambda s: s != \"groundtruth\"].tolist()\n",
    "scores = label_files.melt(\n",
    "    id_vars=\"groundtruth\",\n",
    "    value_vars=methods,\n",
    "    var_name=\"Method\",\n",
    "    value_name=\"filepath\",\n",
    "    ignore_index=False,\n",
    ").assign(\n",
    "    ARI=lambda df: df.apply(\n",
    "        lambda row: calculate_score(adjusted_rand_score, row.groundtruth, row.filepath),\n",
    "        axis=1,\n",
    "    ),\n",
    "    NMI=lambda df: df.apply(\n",
    "        lambda row: calculate_score(\n",
    "            normalized_mutual_info_score, row.groundtruth, row.filepath\n",
    "        ),\n",
    "        axis=1,\n",
    "    ),\n",
    ")"
   ]
  },
  {
   "cell_type": "code",
   "execution_count": null,
   "id": "a77cc037-45c3-4882-bc0a-704d39f8abb1",
   "metadata": {},
   "outputs": [],
   "source": [
    "order = [\n",
    "    \"Leiden HVG\",\n",
    "    \"Leiden SVG\",\n",
    "    \"SpatialLeiden HVG\",\n",
    "    \"SpatialLeiden SVG\",\n",
    "    \"SpaGCN\",\n",
    "    \"BayesSpace\",\n",
    "]"
   ]
  },
  {
   "cell_type": "code",
   "execution_count": null,
   "id": "24ff3c76-f7ba-4bd8-a17e-64b91d65cf46",
   "metadata": {},
   "outputs": [],
   "source": [
    "# check number of clusters\n",
    "label_files.map(get_ncluster).sort_index()[[\"groundtruth\"] + order]"
   ]
  },
  {
   "cell_type": "code",
   "execution_count": null,
   "id": "3fb61990-b168-42ab-b85e-6e20a1de39c5",
   "metadata": {},
   "outputs": [],
   "source": [
    "scores.pivot(columns=\"Method\", values=\"ARI\").sort_index()[order]"
   ]
  },
  {
   "cell_type": "code",
   "execution_count": null,
   "id": "59ba8a00-b4ea-426b-af72-673507d5bf92",
   "metadata": {},
   "outputs": [],
   "source": [
    "scores.pivot(columns=\"Method\", values=\"ARI\").idxmax(axis=1).sort_index()"
   ]
  },
  {
   "cell_type": "code",
   "execution_count": null,
   "id": "7b00e225-d2ca-4c42-92f1-d3dd92b9bbf5",
   "metadata": {},
   "outputs": [],
   "source": [
    "flierprops = dict(marker=\".\", markerfacecolor=\"black\")"
   ]
  },
  {
   "cell_type": "code",
   "execution_count": null,
   "id": "66f1b538-c543-4ff9-9e2e-c0c9c1c71f82",
   "metadata": {},
   "outputs": [],
   "source": [
    "fig, axs = plt.subplots(ncols=2, figsize=(4, 5))\n",
    "sns.boxplot(\n",
    "    data=scores,\n",
    "    x=\"Method\",\n",
    "    y=\"ARI\",\n",
    "    hue=\"Method\",\n",
    "    order=order,\n",
    "    flierprops=flierprops,\n",
    "    ax=axs[0],\n",
    ")\n",
    "_ = axs[0].set(ylim=(0, 1))\n",
    "axs[0].set_xticklabels(\n",
    "    axs[0].get_xticklabels(), rotation=45, ha=\"right\", rotation_mode=\"anchor\"\n",
    ")\n",
    "\n",
    "sns.boxplot(\n",
    "    data=scores,\n",
    "    x=\"Method\",\n",
    "    y=\"NMI\",\n",
    "    hue=\"Method\",\n",
    "    order=order,\n",
    "    flierprops=flierprops,\n",
    "    ax=axs[1],\n",
    ")\n",
    "_ = axs[1].set(ylim=(0, 1))\n",
    "axs[1].set_xticklabels(\n",
    "    axs[1].get_xticklabels(), rotation=45, ha=\"right\", rotation_mode=\"anchor\"\n",
    ")\n",
    "\n",
    "fig.tight_layout()\n",
    "fig.savefig(fig_dir / \"Fig1b.pdf\", dpi=600)"
   ]
  },
  {
   "cell_type": "code",
   "execution_count": null,
   "id": "e01dea41-a3e2-40c4-91d1-2c3cb1ad7a20",
   "metadata": {},
   "outputs": [],
   "source": [
    "ari = scores.pivot(columns=\"Method\", values=\"ARI\")\n",
    "nmi = scores.pivot(columns=\"Method\", values=\"NMI\")"
   ]
  },
  {
   "cell_type": "code",
   "execution_count": null,
   "id": "f218dbb3-e854-40e2-9e24-cd9ceac8183b",
   "metadata": {},
   "outputs": [],
   "source": [
    "wilcoxon(ari[\"Leiden HVG\"], ari[\"SpatialLeiden HVG\"], alternative=\"less\")"
   ]
  },
  {
   "cell_type": "code",
   "execution_count": null,
   "id": "cb9ff6a3-db5f-443a-83b4-819f1dc41e9e",
   "metadata": {},
   "outputs": [],
   "source": [
    "wilcoxon(ari[\"Leiden SVG\"], ari[\"SpatialLeiden SVG\"], alternative=\"less\")"
   ]
  },
  {
   "cell_type": "code",
   "execution_count": null,
   "id": "c77e3b07-f620-43e2-ae09-6c3350821492",
   "metadata": {},
   "outputs": [],
   "source": [
    "wilcoxon(nmi[\"Leiden HVG\"], nmi[\"SpatialLeiden HVG\"], alternative=\"less\")"
   ]
  },
  {
   "cell_type": "code",
   "execution_count": null,
   "id": "62d56a4c-f3f7-43c7-8113-9435cfb4cf94",
   "metadata": {},
   "outputs": [],
   "source": [
    "wilcoxon(nmi[\"Leiden SVG\"], nmi[\"SpatialLeiden SVG\"], alternative=\"less\")"
   ]
  },
  {
   "cell_type": "code",
   "execution_count": null,
   "id": "ca212008-99af-4594-89ad-41c57942dd76",
   "metadata": {},
   "outputs": [],
   "source": [
    "ari.to_csv(fig_dir / \"ARI.tsv\", sep=\"\\t\")\n",
    "nmi.to_csv(fig_dir / \"NMI.tsv\", sep=\"\\t\")"
   ]
  },
  {
   "cell_type": "markdown",
   "id": "3a71ff04-8083-4fc0-a4bc-48fa886f4419",
   "metadata": {},
   "source": [
    "# Spatial Plots (Br8100-151673)"
   ]
  },
  {
   "cell_type": "code",
   "execution_count": null,
   "id": "720aaffb-8270-4bb9-b858-2af107505fa0",
   "metadata": {},
   "outputs": [],
   "source": [
    "sample = \"Br8100_151673\"\n",
    "\n",
    "px_per_um = 96.40082438014726 / 65"
   ]
  },
  {
   "cell_type": "code",
   "execution_count": null,
   "id": "b794aa00-fba2-4a9f-90b7-45a5c9f3f169",
   "metadata": {},
   "outputs": [],
   "source": [
    "coordinate_file = data_dir / sample / \"coordinates.tsv\"\n",
    "image_file = data_dir / sample / \"H_E.tiff\""
   ]
  },
  {
   "cell_type": "code",
   "execution_count": null,
   "id": "807cc485-96b7-4d8a-95a1-b6d3d4c9236e",
   "metadata": {},
   "outputs": [],
   "source": [
    "from scipy.optimize import linear_sum_assignment\n",
    "\n",
    "data = pd.read_table(coordinate_file, index_col=0)\n",
    "\n",
    "files = label_files.loc[sample, :].copy()\n",
    "labels_df = pd.read_table(files.pop(\"groundtruth\"), index_col=0).astype(\"category\")\n",
    "labels_df.columns = [\"groundtruth\"]\n",
    "labels_df[\"groundtruth\"] = labels_df[\"groundtruth\"].cat.rename_categories(\n",
    "    {n: i for i, n in enumerate(labels_df.groundtruth.cat.categories)}\n",
    ")\n",
    "\n",
    "data = data.merge(labels_df, left_index=True, right_index=True)\n",
    "\n",
    "for name, file in files.items():\n",
    "    labels_df = pd.read_table(file, index_col=0).astype(\"category\")\n",
    "    labels_df.columns = [name]\n",
    "\n",
    "    # match clusters\n",
    "    contingency_table = pd.crosstab(labels_df[name], data[\"groundtruth\"])\n",
    "    row_ind, col_ind = linear_sum_assignment(contingency_table, maximize=True)\n",
    "    labels_df[name] = labels_df[name].cat.rename_categories(\n",
    "        dict(zip(contingency_table.index[row_ind], contingency_table.columns[col_ind]))\n",
    "    )\n",
    "\n",
    "    data = data.merge(labels_df, left_index=True, right_index=True)"
   ]
  },
  {
   "cell_type": "code",
   "execution_count": null,
   "id": "8c3be88a-96bf-4347-a3c9-af162184c5f0",
   "metadata": {},
   "outputs": [],
   "source": [
    "from PIL import Image\n",
    "\n",
    "# disable DecompressionBombWarning\n",
    "Image.MAX_IMAGE_PIXELS = None\n",
    "\n",
    "image = np.array(Image.open(image_file))\n",
    "\n",
    "x_crop = (data[\"x\"].min(), data[\"x\"].max())\n",
    "y_crop = (data[\"y\"].min(), data[\"y\"].max())\n",
    "\n",
    "image = image[slice(*y_crop), slice(*x_crop)]\n",
    "data = data.assign(x=lambda df: df[\"x\"] - x_crop[0], y=lambda df: df[\"y\"] - y_crop[0])"
   ]
  },
  {
   "cell_type": "code",
   "execution_count": null,
   "id": "6bd893c7-605c-4b26-9b3e-f95aaa0eb08d",
   "metadata": {},
   "outputs": [],
   "source": [
    "scatter_kwargs = {\n",
    "    \"s\": 5,\n",
    "    \"linewidth\": 0,\n",
    "    \"hue_order\": data[\"groundtruth\"].cat.categories,\n",
    "}\n",
    "\n",
    "\n",
    "def remove_tick_and_label(ax):\n",
    "    ax.set(xticklabels=[], yticklabels=[], xlabel=None, ylabel=None)\n",
    "    ax.tick_params(left=False, bottom=False)\n",
    "\n",
    "\n",
    "def scatter_labels(df, name, ax):\n",
    "    _ = sns.scatterplot(df, x=\"x\", y=\"y\", hue=name, ax=ax, **scatter_kwargs)\n",
    "    ax.set(title=name, aspect=1, xlim=(0, df[\"x\"].max()), ylim=(df[\"y\"].max(), 0))\n",
    "    ax.legend([], [], frameon=False)\n",
    "    remove_tick_and_label(ax)\n",
    "\n",
    "\n",
    "fig, axs = plt.subplots(nrows=2, ncols=4, sharex=True, sharey=True, figsize=(8, 5))\n",
    "_ = axs[0, 0].imshow(image)\n",
    "axs[0, 0].set(title=\"H & E\")\n",
    "remove_tick_and_label(axs[0, 0])\n",
    "scale_bar = AnchoredSizeBar(\n",
    "    axs[0, 0].transData, px_per_um * 1_000, r\"1 mm\", loc=\"lower right\", frameon=False\n",
    ")\n",
    "axs[0, 0].add_artist(scale_bar)\n",
    "\n",
    "scatter_labels(data, \"groundtruth\", axs[1, 0])\n",
    "scatter_labels(data, \"Leiden HVG\", axs[0, 1])\n",
    "scatter_labels(data, \"Leiden SVG\", axs[1, 1])\n",
    "scatter_labels(data, \"SpatialLeiden HVG\", axs[0, 2])\n",
    "scatter_labels(data, \"SpatialLeiden SVG\", axs[1, 2])\n",
    "scatter_labels(data, \"SpaGCN\", axs[0, 3])\n",
    "scatter_labels(data, \"BayesSpace\", axs[1, 3])\n",
    "\n",
    "fig.tight_layout(h_pad=2)\n",
    "fig.savefig(fig_dir / \"Fig1a.pdf\", dpi=600)"
   ]
  },
  {
   "cell_type": "code",
   "execution_count": null,
   "id": "62d66e7b-cdd8-4136-86b6-489f3f2dacf7",
   "metadata": {},
   "outputs": [],
   "source": []
  }
 ],
 "metadata": {
  "kernelspec": {
   "display_name": "sklearn",
   "language": "python",
   "name": "py_sklearn"
  },
  "language_info": {
   "codemirror_mode": {
    "name": "ipython",
    "version": 3
   },
   "file_extension": ".py",
   "mimetype": "text/x-python",
   "name": "python",
   "nbconvert_exporter": "python",
   "pygments_lexer": "ipython3",
   "version": "3.12.0"
  }
 },
 "nbformat": 4,
 "nbformat_minor": 5
}
