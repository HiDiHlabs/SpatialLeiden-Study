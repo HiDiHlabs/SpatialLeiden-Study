{
 "cells": [
  {
   "cell_type": "markdown",
   "id": "4becc931-4f85-471d-8cc2-48253e7f97f3",
   "metadata": {},
   "source": [
    "# Download h5ad"
   ]
  },
  {
   "cell_type": "code",
   "execution_count": 4,
   "id": "0baefe52-2db1-4079-b117-4749210745a0",
   "metadata": {},
   "outputs": [],
   "source": [
    "from concurrent.futures import ProcessPoolExecutor\n",
    "from pathlib import Path\n",
    "\n",
    "import pandas as pd\n",
    "import requests"
   ]
  },
  {
   "cell_type": "code",
   "execution_count": 5,
   "id": "b0f8208e-07eb-4816-a805-05b7598a8a91",
   "metadata": {},
   "outputs": [],
   "source": [
    "metadata_file = \"downloads.tsv\"\n",
    "\n",
    "download_path = Path(\"./data\")\n",
    "\n",
    "h5ad_path = download_path / \"sdmbench\""
   ]
  },
  {
   "cell_type": "code",
   "execution_count": 3,
   "id": "713db215-9fb9-4c27-aa3a-795082ab3e89",
   "metadata": {},
   "outputs": [],
   "source": [
    "metadata = pd.read_table(metadata_file, index_col=0)"
   ]
  },
  {
   "cell_type": "code",
   "execution_count": 4,
   "id": "0fecc9bc-e639-4e73-ba23-2052bc4cf5a8",
   "metadata": {},
   "outputs": [],
   "source": [
    "def download_file(url: str):\n",
    "    filename = h5ad_path / url.split(\"/\")[-1]\n",
    "    with requests.get(url, stream=True) as response:\n",
    "        response.raise_for_status()\n",
    "        with open(filename, \"wb\") as file:\n",
    "            for chunk in response.iter_content(chunk_size=1024):\n",
    "                file.write(chunk)\n",
    "    return filename"
   ]
  },
  {
   "cell_type": "code",
   "execution_count": 5,
   "id": "ea9f5185-5ceb-4a88-99b2-45c3aa604771",
   "metadata": {},
   "outputs": [],
   "source": [
    "with ProcessPoolExecutor(max_workers=16) as pool:\n",
    "    downloaded_files = list(pool.map(download_file, metadata[\"url\"].to_list()))"
   ]
  },
  {
   "cell_type": "markdown",
   "id": "41877316-0610-43ce-9926-325021e70e09",
   "metadata": {},
   "source": [
    "# Download stats"
   ]
  },
  {
   "cell_type": "code",
   "execution_count": 1,
   "id": "40f59ca7-fdd8-4130-9934-853eb636bf8d",
   "metadata": {},
   "outputs": [],
   "source": [
    "import urllib.request"
   ]
  },
  {
   "cell_type": "code",
   "execution_count": 2,
   "id": "1a1be42a-5978-4555-8a86-cfedb92f66dc",
   "metadata": {},
   "outputs": [],
   "source": [
    "url = \"https://static-content.springer.com/esm/art%3A10.1038%2Fs41592-024-02215-8/MediaObjects/41592_2024_2215_MOESM6_ESM.xlsx\""
   ]
  },
  {
   "cell_type": "code",
   "execution_count": 6,
   "id": "f9b3eecb-12d8-4ea1-8bc3-2a8ca88c297d",
   "metadata": {},
   "outputs": [
    {
     "data": {
      "text/plain": [
       "(PosixPath('data/sdmbench_metrics.xlsx'),\n",
       " <http.client.HTTPMessage at 0x14abaa2384f0>)"
      ]
     },
     "execution_count": 6,
     "metadata": {},
     "output_type": "execute_result"
    }
   ],
   "source": [
    "urllib.request.urlretrieve(url, download_path / \"sdmbench_metrics.xlsx\")"
   ]
  }
 ],
 "metadata": {
  "kernelspec": {
   "display_name": "Python [conda env:muellni-spatialleiden]",
   "language": "python",
   "name": "conda-env-muellni-spatialleiden-py"
  },
  "language_info": {
   "codemirror_mode": {
    "name": "ipython",
    "version": 3
   },
   "file_extension": ".py",
   "mimetype": "text/x-python",
   "name": "python",
   "nbconvert_exporter": "python",
   "pygments_lexer": "ipython3",
   "version": "3.10.14"
  }
 },
 "nbformat": 4,
 "nbformat_minor": 5
}
